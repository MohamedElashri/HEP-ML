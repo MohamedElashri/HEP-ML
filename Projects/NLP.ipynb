{
  "nbformat": 4,
  "nbformat_minor": 0,
  "metadata": {
    "colab": {
      "name": "NLP.ipynb",
      "provenance": [],
      "collapsed_sections": [],
      "toc_visible": true,
      "authorship_tag": "ABX9TyPMwjNLMvIfSfNnYGyD1n0H",
      "include_colab_link": true
    },
    "kernelspec": {
      "name": "python3",
      "display_name": "Python 3"
    },
    "accelerator": "GPU"
  },
  "cells": [
    {
      "cell_type": "markdown",
      "metadata": {
        "id": "view-in-github",
        "colab_type": "text"
      },
      "source": [
        "<a href=\"https://colab.research.google.com/github/MohamedElashri/HEP-ML/blob/master/NLP.ipynb\" target=\"_parent\"><img src=\"https://colab.research.google.com/assets/colab-badge.svg\" alt=\"Open In Colab\"/></a>"
      ]
    },
    {
      "cell_type": "markdown",
      "metadata": {
        "id": "9zhpywHWmLnI"
      },
      "source": [
        "\r\n",
        "\r\n",
        "\r\n",
        "# Generating Theoretical particle physics abstracts"
      ]
    },
    {
      "cell_type": "markdown",
      "metadata": {
        "id": "3NhlO6k6mIaa"
      },
      "source": [
        "by [Mohamed Elashri](http://melashri.net)\r\n",
        "\r\n",
        "Created: Dec 26th, 2020*\r\n",
        "*Last updated: Dec 27th, 2020*\r\n",
        "\r\n",
        "\r\n",
        "\r\n",
        "Generate particle physics paper abstracts using a pretrained neural network with a few lines of code using textgenrnn library. \r\n",
        "\r\n",
        "For more about textgenrnn, you can visit [Library GitHub repository](https://github.com/minimaxir/textgenrnn).\r\n",
        "\r\n"
      ]
    },
    {
      "cell_type": "markdown",
      "metadata": {
        "id": "sRywJHXxmrcb"
      },
      "source": [
        "There are some combtablility issues between Tensorflow 2.x and textgenrnn so we will need to stick with version 1"
      ]
    },
    {
      "cell_type": "code",
      "metadata": {
        "colab": {
          "base_uri": "https://localhost:8080/"
        },
        "id": "PVlgpvl2h0av",
        "outputId": "4c9a57b3-ec24-44bd-8d18-b3de0afb58e4"
      },
      "source": [
        "%tensorflow_version 1.x"
      ],
      "execution_count": 1,
      "outputs": [
        {
          "output_type": "stream",
          "text": [
            "TensorFlow 1.x selected.\n"
          ],
          "name": "stdout"
        }
      ]
    },
    {
      "cell_type": "markdown",
      "metadata": {
        "id": "3OPKnSkOm3PS"
      },
      "source": [
        "I'm using google colab and it easier to upload files that contain abstract dataset for training our model . "
      ]
    },
    {
      "cell_type": "code",
      "metadata": {
        "colab": {
          "base_uri": "https://localhost:8080/"
        },
        "id": "xzGokwMjh3fH",
        "outputId": "b971dc18-a11a-4e0b-96e3-93126abd04f9"
      },
      "source": [
        "!pip install -q textgenrnn\r\n",
        "from google.colab import files\r\n",
        "from textgenrnn import textgenrnn\r\n",
        "from datetime import datetime\r\n",
        "import os"
      ],
      "execution_count": 2,
      "outputs": [
        {
          "output_type": "stream",
          "text": [
            "Using TensorFlow backend.\n"
          ],
          "name": "stderr"
        },
        {
          "output_type": "stream",
          "text": [
            "WARNING:tensorflow:From /tensorflow-1.15.2/python3.6/tensorflow_core/python/ops/resource_variable_ops.py:1630: calling BaseResourceVariable.__init__ (from tensorflow.python.ops.resource_variable_ops) with constraint is deprecated and will be removed in a future version.\n",
            "Instructions for updating:\n",
            "If using Keras pass *_constraint arguments to layers.\n"
          ],
          "name": "stdout"
        }
      ]
    },
    {
      "cell_type": "markdown",
      "metadata": {
        "id": "q7no6N7wnKzp"
      },
      "source": [
        "Set the textgenrnn model configuration here: the default parameters here give good results for most workflows. (see the [Library demo notebook](https://github.com/minimaxir/textgenrnn/blob/master/docs/textgenrnn-demo.ipynb) for more information about these parameters)\r\n",
        "\r\n",
        "If you are using an input file where documents are line-delimited, make sure to set `line_delimited` to `True`."
      ]
    },
    {
      "cell_type": "code",
      "metadata": {
        "id": "L3eSES6EkFx5"
      },
      "source": [
        "model_cfg = {\r\n",
        "    'word_level': False,   # set to True if want to train a word-level model (requires more data and smaller max_length)\r\n",
        "    'rnn_size': 256,   # number of LSTM cells of each layer (128/256 recommended)\r\n",
        "    'rnn_layers': 5,   # number of LSTM layers (>=2 recommended)\r\n",
        "    'rnn_bidirectional': False,   # consider text both forwards and backward, can give a training boost\r\n",
        "    'max_length': 30,   # number of tokens to consider before predicting the next (20-40 for characters, 5-10 for words recommended)\r\n",
        "    'max_words': 5000,   # maximum number of words to model; the rest will be ignored (word-level model only)\r\n",
        "}\r\n",
        "\r\n",
        "train_cfg = {\r\n",
        "    'line_delimited': False,   # set to True if each text has its own line in the source file\r\n",
        "    'num_epochs': 15,   # set higher to train the model for longer\r\n",
        "    'gen_epochs': 1,   # generates sample text from model after given number of epochs\r\n",
        "    'train_size': 0.8,   # proportion of input data to train on: setting < 1.0 limits model from learning perfectly\r\n",
        "    'dropout': 0.1,   # ignore a random proportion of source tokens each epoch, allowing model to generalize better\r\n",
        "    'validation': False,   # If train__size < 1.0, test on holdout dataset; will make overall training slower\r\n",
        "    'is_csv': True   # set to True if file is a CSV exported from Excel/BigQuery/pandas\r\n",
        "}"
      ],
      "execution_count": 8,
      "outputs": []
    },
    {
      "cell_type": "markdown",
      "metadata": {
        "id": "1lMmWJZinT7x"
      },
      "source": [
        "In the Colaboratory Notebook sidebar on the left of the screen, select *Files*. \r\n",
        "\r\n",
        "From there you can upload files:\r\n",
        "\r\n",
        "Upload **any text file** and update the file name in the cell below, then run the cell."
      ]
    },
    {
      "cell_type": "code",
      "metadata": {
        "id": "xb2NPpibiDC-"
      },
      "source": [
        "file_name = \"df2.csv\"\r\n",
        "model_name = 'physics-extended'   # change to set file name of resulting trained models/texts"
      ],
      "execution_count": 9,
      "outputs": []
    },
    {
      "cell_type": "markdown",
      "metadata": {
        "id": "MusLJ-jGngHZ"
      },
      "source": [
        "Let's do the training with aiming for a loss less than '1.0' to create sensible text consistently."
      ]
    },
    {
      "cell_type": "code",
      "metadata": {
        "colab": {
          "base_uri": "https://localhost:8080/"
        },
        "id": "t1Z1jlQik0sj",
        "outputId": "d4f197ac-9db2-48c1-b0e3-d9311c78a798"
      },
      "source": [
        "textgen = textgenrnn(name=model_name)\r\n",
        "\r\n",
        "train_function = textgen.train_from_file if train_cfg['line_delimited'] else textgen.train_from_largetext_file\r\n",
        "\r\n",
        "train_function(\r\n",
        "    file_path=file_name,\r\n",
        "    new_model=True,\r\n",
        "    num_epochs=train_cfg['num_epochs'],\r\n",
        "    gen_epochs=train_cfg['gen_epochs'],\r\n",
        "    batch_size=1024,\r\n",
        "    train_size=train_cfg['train_size'],\r\n",
        "    dropout=train_cfg['dropout'],\r\n",
        "    validation=train_cfg['validation'],\r\n",
        "    is_csv=train_cfg['is_csv'],\r\n",
        "    rnn_layers=model_cfg['rnn_layers'],\r\n",
        "    rnn_size=model_cfg['rnn_size'],\r\n",
        "    rnn_bidirectional=model_cfg['rnn_bidirectional'],\r\n",
        "    max_length=model_cfg['max_length'],\r\n",
        "    dim_embeddings=100,\r\n",
        "    word_level=model_cfg['word_level'])"
      ],
      "execution_count": 10,
      "outputs": [
        {
          "output_type": "stream",
          "text": [
            "Training new model w/ 4-layer, 128-cell LSTMs\n",
            "Training on 5,693,743 character sequences.\n",
            "Epoch 1/5\n",
            "5560/5560 [==============================] - 402s 72ms/step - loss: 1.4202\n",
            "####################\n",
            "Temperature: 0.2\n",
            "####################\n",
            "ticle part of the possibility of the model of the state of the stational potentials on the propagation of the stational potentials in the spectrum of the possibility of the spectrum of the stational part of the possibility of the state of the propagator of the possibility of the stationary condition\n",
            "\n",
            "tions and the construction of the stational point functions and the properties of the state of the possibility of the standard model of the construction of the stationary conditions are also discussed. the spectrum of the spacetime of the state of the superspace of the spectrum of the phase transiti\n",
            "\n",
            "s of the particle potential and the strong coupling in the part of the spacetime of the experimental constant and the string theory of the stational point propagating the stational parameter of the context of the spacetime of the stationary conditions in the presence of the stational part of the ene\n",
            "\n",
            "####################\n",
            "Temperature: 0.5\n",
            "####################\n",
            "rties of the sixters of the gravity operator that holographic descriptions of the boundary space supersymmetric and more and the physical space, we compute the real could be a construction of the stational energy and the experimental of the systematic space of a conformal boundary conditions and sho\n",
            "\n",
            "eory on the two parameters and the string theory can be a considered theory and compatible and compare the three-dimensional superspace and the construction of potential to the tensor potential and the state of the definition of a correlator of the complex part of the energy magnetic field theories \n",
            "\n",
            "tion of the interaction of the function of the possibility of the structure of the observation of the spectral massive einstein conformal systems and such a final transport on the conformal field theories in the physical theory proposes. the thermal conformal points of the general part of the part o\n",
            "\n",
            "####################\n",
            "Temperature: 1.0\n",
            "####################\n",
            "aposal invariants and gravitational work of some limit, $\\rm eve_h$ and help of the some vanishing component at horizon is shown that the example of doung to the construct problemal fields leads on the nz parameters daving untendnonformation for the matrices. in this paper we we show that a contribu\n",
            "\n",
            "elanchic operators for relativistic logarithmicls. as a function $\\psi:5$-scalar fields, and as amplitude. thus, we can be obtained for cft simple test tool.\"\n",
            "2897,1701.04002,\"the non-pole features are in either the maxwell-fermion and fashatic and sluzan. the absence of an elficient (msal) space, t\n",
            "\n",
            "ompactification of rotation any realized to a corre particular feature of the cminn universal that lorentums, beutzer motions on fleven, an add to propose a n=4 strongly in an \\alpear $g\\beta_=, 1$, we find a thermall level. furthyy, this dresses interaction. network, our moving a stability of the s\n",
            "\n",
            "Epoch 2/5\n",
            "5560/5560 [==============================] - 390s 70ms/step - loss: 1.0151\n",
            "####################\n",
            "Temperature: 0.2\n",
            "####################\n",
            " energy equation of the standard model is not a generalization of the massive gravity is a consistent with the standard model with a conformal field theory of the conformal field theory and the scalar field conditions and the entanglement entropy of the conformal field theory and the conformal field\n",
            "\n",
            "nformal field theory conditions and the standard model of the standard model of the standard model of the standard model of the massive gravity and the standard model and the non-trivial condition of the standard model of the standard model with a set of gauge theory of the standard model with a con\n",
            "\n",
            "e standard model of the background of the standard model of the condition of the deformation of the conformal field theory and the constraint on the conformal field theory is considered as a supersymmetric state of the standard model of the condition of the conformal field theory and the condition o\n",
            "\n",
            "####################\n",
            "Temperature: 0.5\n",
            "####################\n",
            "case of a non-trivial field in the two-dimensional gauge theory in the strategy of the condition of a non-trivial boundary term for a post-infinite spacetime. the masses of the scattering amplitude of the lagrangian scale in the model and an explicit relativistic and several particles in the spectru\n",
            "\n",
            "the effective masses of the account on the continuation of the theory conditions to a standard model in the context of a simple gauge theory. these parameters are supported by a recent problem of the standard moduli space of the static operators of the exact solution connection in the massive gravit\n",
            "\n",
            " theory and conformal field theory is studied. in the case of a surface degeneracy formula for the condition of the theory of manifolds and the prescription of the theory of conformal blocks in the context of a scalar field in the present work of the stability of the continuous spin theory. this is \n",
            "\n",
            "####################\n",
            "Temperature: 1.0\n",
            "####################\n",
            " relativity-prescription of circu(111d physically associated) model, estimate; a 6 conjolation and the prepotential function in performing these results to the basis on the action of fluctuating symmetries that is not global symmetries wroke. we show that the probability. topological techniques givi\n",
            "\n",
            "ittenating running (6019)-dimensional higgs thermodynamilized is to generically deformatively in with an arbitrary conformal p-wave pair and components and the investigation of the case end.\"\n",
            "2681,1612.04642,\"modular fluctuations and d3-mps even and black holes, in a light between the connections be\n",
            "\n",
            "ve. attracting up that two power spectrum, the energy theory of cosmicing ons oithing that \\phi versions describes a recent results have a set of classical strings. we exploiting a derivative model of the globally by identifying the restricted (near-event\"\" reflects to all adjoint $\\mu$, and, and wi\n",
            "\n",
            "Epoch 3/5\n",
            "5560/5560 [==============================] - 391s 70ms/step - loss: 0.9631\n",
            "####################\n",
            "Temperature: 0.2\n",
            "####################\n",
            "system of the probability of the string conductivity of the spacetime symmetry is the construction of the constraints on the relation between the second order in the second order and the simplest constraints on the static spacetime dimensions in the context of the supersymmetric state of the system \n",
            "\n",
            "cosmological constant $\\lambda$ and $\\mathcal{n}=2$ supersymmetric systems and the construction of the system is also analyzed as a consequence of the constraints on the string theory in the context of the scalar field and the scalar field and the construction of the problem of the spacetime of the \n",
            "\n",
            "irac fermion in the scalar field in the context of the constraints on the conformal field theory in the context of the scalar field in the limit of the system is a constraint on the string theory in the context of the system is a single field in the context of the system is a subsequently determine \n",
            "\n",
            "####################\n",
            "Temperature: 0.5\n",
            "####################\n",
            "1.3521,\"we study the symmetry breaking of the regularization of the process of the spin conformal field theory in the context of the scalar field in the first law of the extended function of the local terms with a singularity of fields in the case of sections. the observed expression for the system \n",
            "\n",
            "e case of a single supersymmetric system and comparing the transformation of the dirac matrix model, which is substantial in the second order and scalar massive particles in the context of the order of the weak coupling constant in the formula for the model in terms of the results of the moduli spac\n",
            "\n",
            ",1703.04353,\"we study the amplitude of the structure of the spacetime system and the formula for the string theory in the higher spin and scalar field conditions in the context of order $\\cal n_{\\cal n}_4$ rank-wallom matrix in the first order correction in the presence of a boundary condition with \n",
            "\n",
            "####################\n",
            "Temperature: 1.0\n",
            "####################\n",
            "nfinityly simply slowna: we construct radiative groups that the cenderce of entangled sl(2) and ma*ate bound on gravitational band swite is reasously noncommutativ behavior on rich unification, and polarisable root statistics are obtained from redshifts become three-dimensional fundamental local obj\n",
            "\n",
            "ld feature and others, which we propose that closed terms in terms of gravitational singularities on the planck operator was approximated to the correspondence. this heat configurations that provides a continuous system is an arbitrary precaped $(40)$ chain from the infinite classically-realizing ea\n",
            "\n",
            " is an ultravological baryogenesis for gravitational level regimes under the derivation of the unitary scalar sector. as the breaking component of the properties of this -- indeed genus of supersymmetries $\\mathcal{l}h^{rm 1}$ using the black hole field to a model defined on a does noetherties towar\n",
            "\n",
            "Epoch 4/5\n",
            "5560/5560 [==============================] - 392s 70ms/step - loss: 0.9280\n",
            "####################\n",
            "Temperature: 0.2\n",
            "####################\n",
            "f the standard model of the state of the standard model with a single subset of the standard model of the standard model of the standard model of the system of supersymmetric theories with the standard model of the standard model and the stable set of conformal field theory and the standard model wi\n",
            "\n",
            "expansion of the states in the standard model of the static solutions of the standard model of the standard model with the standard model of the states in the standard model of the standard model of the standard model of the static spacetime and the stability of the standard model of the standard mo\n",
            "\n",
            "a single subset of a supersymmetric spacetime which is a simple structure of the states of the standard model in the presence of a massless scalar field in the presence of a supersymmetric solution of the standard model of the conformal field theory in the standard model of the scalar field in the s\n",
            "\n",
            "####################\n",
            "Temperature: 0.5\n",
            "####################\n",
            " to start all of the dispersion relations in the mass of a sum over supersymmetric theory can be extended to study the stabilization of the gravitational wave system and find that the stationary solutions of space-time dimensions, and $\\mathrm{so}\\pi \\mathcal{n}=2$ super yang-mills theory, but the l\n",
            "\n",
            "ce of transition properties of the scalar field in the context of states and obtain the renormalization group flow of the same supersymmetric gauge theory with an interpretation of the exceptional field theory and the state problem to the subject of the theory of solutions that are discussed in the \n",
            "\n",
            "f space-time dimensions with the weyl tensor process that are described by a singular point which are related to the integral form of the second order potential in the presence of a simple and study the conserved charge density in the context of the conformal block for supersymmetric gauge theories \n",
            "\n",
            "####################\n",
            "Temperature: 1.0\n",
            "####################\n",
            "yau manifolds take the cavitwry fermions as arbitrary susy with the optimization can be determined. this quantitation term contains 82-dimensional higher-dimensional gauge group of the quantization of a scalar potential. by observers encode the metric used triangulate formalism with carter after del\n",
            "\n",
            "resentations operator with borel in the open string model when the energy-momentum perform as the original (rs) probe in luch in which we find that dynamics, we find several superfields approach to be the feylow divergences of slow-roll integrals. quarks for the gauge. we consider two dimensions gau\n",
            "\n",
            "imi_c\\sim100^1$ and 3) mass the full 4d field dynamics. the color calculation, for closer parameters, we find that the number of states on ultraviolet. the d\\\"\"acky ingredient, anomalous fluid, for which since the frequencies are from deformations of showing information theories, we consider the dyn\n",
            "\n",
            "Epoch 5/5\n",
            "5560/5560 [==============================] - 397s 71ms/step - loss: 0.8995\n",
            "####################\n",
            "Temperature: 0.2\n",
            "####################\n",
            " the system is a simple discussion of the standard model and the standard model and the standard model and the standard model is a single subsystem and the constraints on the strong coupling constant and the standard model of the statistical system is the same as the standard model of the system is \n",
            "\n",
            "tatistical system is consistent with the spectral density in the supergravity dual to the standard model and the spectral dimension is a constant relation between the standard model with a supersymmetric gauge theory and the constraints on the continuum limit of the constraints on the strong couplin\n",
            "\n",
            "del of the string theory in the context of the string theory in the case of the static spherical symmetry is a supersymmetric state of the construction of the standard model and the constraints on the constraints on the strong coupling constant $\\lambda$ and $\\mathcal{n}=2$ supersymmetric gauge theo\n",
            "\n",
            "####################\n",
            "Temperature: 0.5\n",
            "####################\n",
            "ate that the standard model and the construction of the supersymmetry is suppressed in the single field and the universe subsequently applies to the renormalization group flow of the supersymmetry breaking in the hamiltonian and its action and can be expressed in terms of the mass density of a gauge\n",
            "\n",
            "construction of the system is the construction of the compactification of the correction to the lattice stars in the strong coupling constant is presented. the mass spectrum of the systems of a spinning statistical model of the gravity in the spectral propagator. the latter is based on the hypergeom\n",
            "\n",
            "d and construct the property of the holographic duality between the perturbative result of the different structure results can be constructed in the case of spacetime and its number of the spacetime on the system as a constraint on the construction of the constraints and the final topological defect\n",
            "\n",
            "####################\n",
            "Temperature: 1.0\n",
            "####################\n",
            "urs in constructed massless flux of gauge theories. the observationals in this paper. then we consider 2-dimensional asymptotically applied onto massive fermion schr\\\"\"odinger space of an algebraical form of the standard correlation functions including a canonical entropy does not new points for gra\n",
            "\n",
            " becum of quantum vielves they are generally motivated by 'tovel with grego-yau-mants (2l) gravity is in all three cases of \"\"non-action\"\" that support affine limits sensible recospoint, for the end. we apply our results also have heteroding algebraic relations/producing dirac fermions in the presen\n",
            "\n",
            "me and minus total network to gauge group and $\\lambda$ problems for both matrix elements and the bulk and darklet to small feozmatically quantized spatial couplings for the complex scalar and field clockwork out, to the same. for agreement part, whereas the method $d=10.8,k-\\times s^2$ over univers\n",
            "\n"
          ],
          "name": "stdout"
        }
      ]
    },
    {
      "cell_type": "markdown",
      "metadata": {
        "id": "OYGo2brhnqq6"
      },
      "source": [
        "You can download a large amount of generated text from your model with the cell below! Rerun the cell as many times as you want for even more text!"
      ]
    },
    {
      "cell_type": "code",
      "metadata": {
        "colab": {
          "base_uri": "https://localhost:8080/",
          "height": 17
        },
        "id": "6aAQLTOyntxC",
        "outputId": "efc4131f-9c82-4765-aa82-fcd126b665f4"
      },
      "source": [
        "# this temperature schedule cycles between 1 very unexpected token, 1 unexpected token, 2 expected tokens, repeat.\r\n",
        "# changing the temperature schedule can result in wildly different output!\r\n",
        "temperature = [1]   \r\n",
        "prefix = None   # if you want each generated text to start with a given seed text\r\n",
        "\r\n",
        "if train_cfg['line_delimited']:\r\n",
        "  n = 1000\r\n",
        "  max_gen_length = 60 if model_cfg['word_level'] else 300\r\n",
        "else:\r\n",
        "  n = 1\r\n",
        "  max_gen_length = 500 if model_cfg['word_level'] else 1000\r\n",
        "  \r\n",
        "timestring = datetime.now().strftime('%Y%m%d_%H%M%S')\r\n",
        "gen_file = '{}_gentext_{}.txt'.format(model_name, timestring)\r\n",
        "\r\n",
        "textgen.generate_to_file(gen_file,\r\n",
        "                         temperature=temperature,\r\n",
        "                         prefix=prefix,\r\n",
        "                         n=n,\r\n",
        "                         max_gen_length=max_gen_length)\r\n",
        "files.download(gen_file)"
      ],
      "execution_count": 22,
      "outputs": [
        {
          "output_type": "display_data",
          "data": {
            "application/javascript": [
              "\n",
              "    async function download(id, filename, size) {\n",
              "      if (!google.colab.kernel.accessAllowed) {\n",
              "        return;\n",
              "      }\n",
              "      const div = document.createElement('div');\n",
              "      const label = document.createElement('label');\n",
              "      label.textContent = `Downloading \"${filename}\": `;\n",
              "      div.appendChild(label);\n",
              "      const progress = document.createElement('progress');\n",
              "      progress.max = size;\n",
              "      div.appendChild(progress);\n",
              "      document.body.appendChild(div);\n",
              "\n",
              "      const buffers = [];\n",
              "      let downloaded = 0;\n",
              "\n",
              "      const channel = await google.colab.kernel.comms.open(id);\n",
              "      // Send a message to notify the kernel that we're ready.\n",
              "      channel.send({})\n",
              "\n",
              "      for await (const message of channel.messages) {\n",
              "        // Send a message to notify the kernel that we're ready.\n",
              "        channel.send({})\n",
              "        if (message.buffers) {\n",
              "          for (const buffer of message.buffers) {\n",
              "            buffers.push(buffer);\n",
              "            downloaded += buffer.byteLength;\n",
              "            progress.value = downloaded;\n",
              "          }\n",
              "        }\n",
              "      }\n",
              "      const blob = new Blob(buffers, {type: 'application/binary'});\n",
              "      const a = document.createElement('a');\n",
              "      a.href = window.URL.createObjectURL(blob);\n",
              "      a.download = filename;\n",
              "      div.appendChild(a);\n",
              "      a.click();\n",
              "      div.remove();\n",
              "    }\n",
              "  "
            ],
            "text/plain": [
              "<IPython.core.display.Javascript object>"
            ]
          },
          "metadata": {
            "tags": []
          }
        },
        {
          "output_type": "display_data",
          "data": {
            "application/javascript": [
              "download(\"download_6cffb262-11f7-4e22-8184-28f78e82e896\", \"physics-extended_gentext_20201227_162658.txt\", 1001)"
            ],
            "text/plain": [
              "<IPython.core.display.Javascript object>"
            ]
          },
          "metadata": {
            "tags": []
          }
        }
      ]
    },
    {
      "cell_type": "markdown",
      "metadata": {
        "id": "3vx3K0_jnvbb"
      },
      "source": [
        "We can download the weights and configuration files in the cell below, allowing you recreate the model on our own machines!"
      ]
    },
    {
      "cell_type": "code",
      "metadata": {
        "colab": {
          "base_uri": "https://localhost:8080/",
          "height": 17
        },
        "id": "8YJG3_G0n4fF",
        "outputId": "87ea0bfe-4f87-4e9a-b1ee-8f1b00879bdf"
      },
      "source": [
        "files.download('{}_weights.hdf5'.format(model_name))\r\n",
        "files.download('{}_vocab.json'.format(model_name))\r\n",
        "files.download('{}_config.json'.format(model_name))"
      ],
      "execution_count": 12,
      "outputs": [
        {
          "output_type": "display_data",
          "data": {
            "application/javascript": [
              "\n",
              "    async function download(id, filename, size) {\n",
              "      if (!google.colab.kernel.accessAllowed) {\n",
              "        return;\n",
              "      }\n",
              "      const div = document.createElement('div');\n",
              "      const label = document.createElement('label');\n",
              "      label.textContent = `Downloading \"${filename}\": `;\n",
              "      div.appendChild(label);\n",
              "      const progress = document.createElement('progress');\n",
              "      progress.max = size;\n",
              "      div.appendChild(progress);\n",
              "      document.body.appendChild(div);\n",
              "\n",
              "      const buffers = [];\n",
              "      let downloaded = 0;\n",
              "\n",
              "      const channel = await google.colab.kernel.comms.open(id);\n",
              "      // Send a message to notify the kernel that we're ready.\n",
              "      channel.send({})\n",
              "\n",
              "      for await (const message of channel.messages) {\n",
              "        // Send a message to notify the kernel that we're ready.\n",
              "        channel.send({})\n",
              "        if (message.buffers) {\n",
              "          for (const buffer of message.buffers) {\n",
              "            buffers.push(buffer);\n",
              "            downloaded += buffer.byteLength;\n",
              "            progress.value = downloaded;\n",
              "          }\n",
              "        }\n",
              "      }\n",
              "      const blob = new Blob(buffers, {type: 'application/binary'});\n",
              "      const a = document.createElement('a');\n",
              "      a.href = window.URL.createObjectURL(blob);\n",
              "      a.download = filename;\n",
              "      div.appendChild(a);\n",
              "      a.click();\n",
              "      div.remove();\n",
              "    }\n",
              "  "
            ],
            "text/plain": [
              "<IPython.core.display.Javascript object>"
            ]
          },
          "metadata": {
            "tags": []
          }
        },
        {
          "output_type": "display_data",
          "data": {
            "application/javascript": [
              "download(\"download_de0e5d87-0e1b-4c34-9856-2ae1f0d7a8b5\", \"physics-extended_weights.hdf5\", 2294360)"
            ],
            "text/plain": [
              "<IPython.core.display.Javascript object>"
            ]
          },
          "metadata": {
            "tags": []
          }
        },
        {
          "output_type": "display_data",
          "data": {
            "application/javascript": [
              "\n",
              "    async function download(id, filename, size) {\n",
              "      if (!google.colab.kernel.accessAllowed) {\n",
              "        return;\n",
              "      }\n",
              "      const div = document.createElement('div');\n",
              "      const label = document.createElement('label');\n",
              "      label.textContent = `Downloading \"${filename}\": `;\n",
              "      div.appendChild(label);\n",
              "      const progress = document.createElement('progress');\n",
              "      progress.max = size;\n",
              "      div.appendChild(progress);\n",
              "      document.body.appendChild(div);\n",
              "\n",
              "      const buffers = [];\n",
              "      let downloaded = 0;\n",
              "\n",
              "      const channel = await google.colab.kernel.comms.open(id);\n",
              "      // Send a message to notify the kernel that we're ready.\n",
              "      channel.send({})\n",
              "\n",
              "      for await (const message of channel.messages) {\n",
              "        // Send a message to notify the kernel that we're ready.\n",
              "        channel.send({})\n",
              "        if (message.buffers) {\n",
              "          for (const buffer of message.buffers) {\n",
              "            buffers.push(buffer);\n",
              "            downloaded += buffer.byteLength;\n",
              "            progress.value = downloaded;\n",
              "          }\n",
              "        }\n",
              "      }\n",
              "      const blob = new Blob(buffers, {type: 'application/binary'});\n",
              "      const a = document.createElement('a');\n",
              "      a.href = window.URL.createObjectURL(blob);\n",
              "      a.download = filename;\n",
              "      div.appendChild(a);\n",
              "      a.click();\n",
              "      div.remove();\n",
              "    }\n",
              "  "
            ],
            "text/plain": [
              "<IPython.core.display.Javascript object>"
            ]
          },
          "metadata": {
            "tags": []
          }
        },
        {
          "output_type": "display_data",
          "data": {
            "application/javascript": [
              "download(\"download_04de20fb-768a-446a-beca-948b6d714431\", \"physics-extended_vocab.json\", 633)"
            ],
            "text/plain": [
              "<IPython.core.display.Javascript object>"
            ]
          },
          "metadata": {
            "tags": []
          }
        },
        {
          "output_type": "display_data",
          "data": {
            "application/javascript": [
              "\n",
              "    async function download(id, filename, size) {\n",
              "      if (!google.colab.kernel.accessAllowed) {\n",
              "        return;\n",
              "      }\n",
              "      const div = document.createElement('div');\n",
              "      const label = document.createElement('label');\n",
              "      label.textContent = `Downloading \"${filename}\": `;\n",
              "      div.appendChild(label);\n",
              "      const progress = document.createElement('progress');\n",
              "      progress.max = size;\n",
              "      div.appendChild(progress);\n",
              "      document.body.appendChild(div);\n",
              "\n",
              "      const buffers = [];\n",
              "      let downloaded = 0;\n",
              "\n",
              "      const channel = await google.colab.kernel.comms.open(id);\n",
              "      // Send a message to notify the kernel that we're ready.\n",
              "      channel.send({})\n",
              "\n",
              "      for await (const message of channel.messages) {\n",
              "        // Send a message to notify the kernel that we're ready.\n",
              "        channel.send({})\n",
              "        if (message.buffers) {\n",
              "          for (const buffer of message.buffers) {\n",
              "            buffers.push(buffer);\n",
              "            downloaded += buffer.byteLength;\n",
              "            progress.value = downloaded;\n",
              "          }\n",
              "        }\n",
              "      }\n",
              "      const blob = new Blob(buffers, {type: 'application/binary'});\n",
              "      const a = document.createElement('a');\n",
              "      a.href = window.URL.createObjectURL(blob);\n",
              "      a.download = filename;\n",
              "      div.appendChild(a);\n",
              "      a.click();\n",
              "      div.remove();\n",
              "    }\n",
              "  "
            ],
            "text/plain": [
              "<IPython.core.display.Javascript object>"
            ]
          },
          "metadata": {
            "tags": []
          }
        },
        {
          "output_type": "display_data",
          "data": {
            "application/javascript": [
              "download(\"download_e0eeea90-d91a-4254-a8fa-1c0cc0ad0c90\", \"physics-extended_config.json\", 228)"
            ],
            "text/plain": [
              "<IPython.core.display.Javascript object>"
            ]
          },
          "metadata": {
            "tags": []
          }
        }
      ]
    },
    {
      "cell_type": "markdown",
      "metadata": {
        "id": "zZeDn39opl2Y"
      },
      "source": [
        "To recreate the model on your own computer, after installing textgenrnn and TensorFlow, you can create a Python script with:\r\n",
        "\r\n",
        "\r\n",
        "\r\n",
        "```\r\n",
        "from textgenrnn import textgenrnn\r\n",
        "textgen = textgenrnn(weights_path='colaboratory_weights.hdf5',\r\n",
        "                       vocab_path='colaboratory_vocab.json',\r\n",
        "                       config_path='colaboratory_config.json')\r\n",
        " \r\n",
        "textgen.generate_samples(max_gen_length=1000)\r\n",
        "textgen.generate_to_file('textgenrnn_texts.txt', max_gen_length=1000)\r\n",
        "\r\n",
        "```\r\n",
        "\r\n",
        "\r\n",
        "\r\n",
        "---\r\n",
        "\r\n"
      ]
    },
    {
      "cell_type": "markdown",
      "metadata": {
        "id": "rrS5cyXMpylo"
      },
      "source": [
        "# Appendix\r\n"
      ]
    },
    {
      "cell_type": "markdown",
      "metadata": {
        "id": "mWPv6KjKp4PY"
      },
      "source": [
        "If the model fails to load on a local machine due to a model-size-not-matching bug (common in >30MB weights), this is due to a file export bug from Colaboratory. To work around this issue, save the weights to Google Drive with the two cells below and download from there."
      ]
    },
    {
      "cell_type": "code",
      "metadata": {
        "id": "raNQ5px9p62Y"
      },
      "source": [
        "!pip install -U -q PyDrive\r\n",
        "from pydrive.auth import GoogleAuth\r\n",
        "from pydrive.drive import GoogleDrive\r\n",
        "from google.colab import auth\r\n",
        "from google.colab import files\r\n",
        "from oauth2client.client import GoogleCredentials\r\n",
        "\r\n",
        "auth.authenticate_user()\r\n",
        "gauth = GoogleAuth()\r\n",
        "gauth.credentials = GoogleCredentials.get_application_default()\r\n",
        "drive = GoogleDrive(gauth)"
      ],
      "execution_count": 24,
      "outputs": []
    },
    {
      "cell_type": "code",
      "metadata": {
        "id": "TykHnAW3p8BR",
        "colab": {
          "base_uri": "https://localhost:8080/"
        },
        "outputId": "8c4109d3-43a7-4675-cd0d-6ff9092834ab"
      },
      "source": [
        "uploaded = drive.CreateFile({'title': '{}_weights.hdf5'.format(model_name)})\r\n",
        "uploaded.SetContentFile('{}_weights.hdf5'.format(model_name))\r\n",
        "uploaded.Upload()\r\n",
        "print('Uploaded file with ID {}'.format(uploaded.get('id')))"
      ],
      "execution_count": 25,
      "outputs": [
        {
          "output_type": "stream",
          "text": [
            "Uploaded file with ID 1EiXApEgD_iShMsXVqawpsY30U1g69dWP\n"
          ],
          "name": "stdout"
        }
      ]
    },
    {
      "cell_type": "markdown",
      "metadata": {
        "id": "FnWDlaMUqCsx"
      },
      "source": [
        "If the notebook has errors (e.g. GPU Sync Fail), force-kill the Colaboratory virtual machine and restart it with the command below:"
      ]
    },
    {
      "cell_type": "code",
      "metadata": {
        "id": "DS4sTZ7AqDYu"
      },
      "source": [
        "!kill -9 -1"
      ],
      "execution_count": null,
      "outputs": []
    }
  ]
}