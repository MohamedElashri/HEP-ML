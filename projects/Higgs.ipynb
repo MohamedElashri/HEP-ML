{
  "nbformat": 4,
  "nbformat_minor": 0,
  "metadata": {
    "kernelspec": {
      "display_name": "Python 3",
      "language": "python",
      "name": "python3"
    },
    "language_info": {
      "codemirror_mode": {
        "name": "ipython",
        "version": 3
      },
      "file_extension": ".py",
      "mimetype": "text/x-python",
      "name": "python",
      "nbconvert_exporter": "python",
      "pygments_lexer": "ipython3",
      "version": "3.6.4"
    },
    "colab": {
      "name": " Higgs.ipynb",
      "provenance": [],
      "include_colab_link": true
    }
  },
  "cells": [
    {
      "cell_type": "markdown",
      "metadata": {
        "id": "view-in-github",
        "colab_type": "text"
      },
      "source": [
        "<a href=\"https://colab.research.google.com/github/MohamedElashri/HEP-ML/blob/master/Higgs.ipynb\" target=\"_parent\"><img src=\"https://colab.research.google.com/assets/colab-badge.svg\" alt=\"Open In Colab\"/></a>"
      ]
    },
    {
      "cell_type": "code",
      "metadata": {
        "id": "TFq38zy_pCw_"
      },
      "source": [
        "import pandas as pd\n",
        "import matplotlib.pyplot as plt\n",
        "import numpy as np\n",
        "from matplotlib import cm\n",
        "# supress warnings\n",
        "import warnings\n",
        "warnings.filterwarnings(\"ignore\")\n"
      ],
      "execution_count": null,
      "outputs": []
    },
    {
      "cell_type": "code",
      "metadata": {
        "id": "YX0Hr979pCxE"
      },
      "source": [
        "# data from \n",
        "# Sylvie Brunet, Abha Eli Phoboo, and Cian O’Luanaigh. ATLAS sees Higgs boson decay to fermions\n",
        "# ATLAS Collaboration\n",
        "\n",
        "df=pd.read_csv('https://raw.githubusercontent.com/MohamedElashri/HEP-ML/master/Data/Higgs_data.csv')"
      ],
      "execution_count": 45,
      "outputs": []
    },
    {
      "cell_type": "code",
      "metadata": {
        "id": "3G82sOjWpCxI",
        "outputId": "166ca918-1dfe-4851-b239-bae85dcc8be9",
        "colab": {
          "base_uri": "https://localhost:8080/",
          "height": 224
        }
      },
      "source": [
        "# lets tead our data header.\n",
        "df.head()"
      ],
      "execution_count": null,
      "outputs": [
        {
          "output_type": "execute_result",
          "data": {
            "text/html": [
              "<div>\n",
              "<style scoped>\n",
              "    .dataframe tbody tr th:only-of-type {\n",
              "        vertical-align: middle;\n",
              "    }\n",
              "\n",
              "    .dataframe tbody tr th {\n",
              "        vertical-align: top;\n",
              "    }\n",
              "\n",
              "    .dataframe thead th {\n",
              "        text-align: right;\n",
              "    }\n",
              "</style>\n",
              "<table border=\"1\" class=\"dataframe\">\n",
              "  <thead>\n",
              "    <tr style=\"text-align: right;\">\n",
              "      <th></th>\n",
              "      <th>DER_mass_MMC</th>\n",
              "      <th>DER_mass_transverse_met_lep</th>\n",
              "      <th>DER_mass_vis</th>\n",
              "      <th>DER_pt_h</th>\n",
              "      <th>DER_deltaeta_jet_jet</th>\n",
              "      <th>DER_mass_jet_jet</th>\n",
              "      <th>DER_prodeta_jet_jet</th>\n",
              "      <th>DER_deltar_tau_lep</th>\n",
              "      <th>DER_pt_tot</th>\n",
              "      <th>DER_sum_pt</th>\n",
              "      <th>DER_pt_ratio_lep_tau</th>\n",
              "      <th>DER_met_phi_centrality</th>\n",
              "      <th>DER_lep_eta_centrality</th>\n",
              "      <th>PRI_tau_pt</th>\n",
              "      <th>PRI_tau_eta</th>\n",
              "      <th>PRI_tau_phi</th>\n",
              "      <th>PRI_lep_pt</th>\n",
              "      <th>PRI_lep_eta</th>\n",
              "      <th>PRI_lep_phi</th>\n",
              "      <th>PRI_met</th>\n",
              "      <th>PRI_met_phi</th>\n",
              "      <th>PRI_met_sumet</th>\n",
              "      <th>PRI_jet_num</th>\n",
              "      <th>PRI_jet_leading_pt</th>\n",
              "      <th>PRI_jet_leading_eta</th>\n",
              "      <th>PRI_jet_leading_phi</th>\n",
              "      <th>PRI_jet_subleading_pt</th>\n",
              "      <th>PRI_jet_subleading_eta</th>\n",
              "      <th>PRI_jet_subleading_phi</th>\n",
              "      <th>PRI_jet_all_pt</th>\n",
              "      <th>Weight</th>\n",
              "      <th>Label</th>\n",
              "    </tr>\n",
              "  </thead>\n",
              "  <tbody>\n",
              "    <tr>\n",
              "      <th>0</th>\n",
              "      <td>138.470</td>\n",
              "      <td>51.655</td>\n",
              "      <td>97.827</td>\n",
              "      <td>27.980</td>\n",
              "      <td>0.91</td>\n",
              "      <td>124.711</td>\n",
              "      <td>2.666</td>\n",
              "      <td>3.064</td>\n",
              "      <td>41.928</td>\n",
              "      <td>197.760</td>\n",
              "      <td>1.582</td>\n",
              "      <td>1.396</td>\n",
              "      <td>0.2</td>\n",
              "      <td>32.638</td>\n",
              "      <td>1.017</td>\n",
              "      <td>0.381</td>\n",
              "      <td>51.626</td>\n",
              "      <td>2.273</td>\n",
              "      <td>-2.414</td>\n",
              "      <td>16.824</td>\n",
              "      <td>-0.277</td>\n",
              "      <td>258.733</td>\n",
              "      <td>2</td>\n",
              "      <td>67.435</td>\n",
              "      <td>2.150</td>\n",
              "      <td>0.444</td>\n",
              "      <td>46.062</td>\n",
              "      <td>1.24</td>\n",
              "      <td>-2.475</td>\n",
              "      <td>113.497</td>\n",
              "      <td>0.002653</td>\n",
              "      <td>s</td>\n",
              "    </tr>\n",
              "    <tr>\n",
              "      <th>1</th>\n",
              "      <td>160.937</td>\n",
              "      <td>68.768</td>\n",
              "      <td>103.235</td>\n",
              "      <td>48.146</td>\n",
              "      <td>-999.00</td>\n",
              "      <td>-999.000</td>\n",
              "      <td>-999.000</td>\n",
              "      <td>3.473</td>\n",
              "      <td>2.078</td>\n",
              "      <td>125.157</td>\n",
              "      <td>0.879</td>\n",
              "      <td>1.414</td>\n",
              "      <td>-999.0</td>\n",
              "      <td>42.014</td>\n",
              "      <td>2.039</td>\n",
              "      <td>-3.011</td>\n",
              "      <td>36.918</td>\n",
              "      <td>0.501</td>\n",
              "      <td>0.103</td>\n",
              "      <td>44.704</td>\n",
              "      <td>-1.916</td>\n",
              "      <td>164.546</td>\n",
              "      <td>1</td>\n",
              "      <td>46.226</td>\n",
              "      <td>0.725</td>\n",
              "      <td>1.158</td>\n",
              "      <td>-999.000</td>\n",
              "      <td>-999.00</td>\n",
              "      <td>-999.000</td>\n",
              "      <td>46.226</td>\n",
              "      <td>2.233584</td>\n",
              "      <td>b</td>\n",
              "    </tr>\n",
              "    <tr>\n",
              "      <th>2</th>\n",
              "      <td>-999.000</td>\n",
              "      <td>162.172</td>\n",
              "      <td>125.953</td>\n",
              "      <td>35.635</td>\n",
              "      <td>-999.00</td>\n",
              "      <td>-999.000</td>\n",
              "      <td>-999.000</td>\n",
              "      <td>3.148</td>\n",
              "      <td>9.336</td>\n",
              "      <td>197.814</td>\n",
              "      <td>3.776</td>\n",
              "      <td>1.414</td>\n",
              "      <td>-999.0</td>\n",
              "      <td>32.154</td>\n",
              "      <td>-0.705</td>\n",
              "      <td>-2.093</td>\n",
              "      <td>121.409</td>\n",
              "      <td>-0.953</td>\n",
              "      <td>1.052</td>\n",
              "      <td>54.283</td>\n",
              "      <td>-2.186</td>\n",
              "      <td>260.414</td>\n",
              "      <td>1</td>\n",
              "      <td>44.251</td>\n",
              "      <td>2.053</td>\n",
              "      <td>-2.028</td>\n",
              "      <td>-999.000</td>\n",
              "      <td>-999.00</td>\n",
              "      <td>-999.000</td>\n",
              "      <td>44.251</td>\n",
              "      <td>2.347389</td>\n",
              "      <td>b</td>\n",
              "    </tr>\n",
              "    <tr>\n",
              "      <th>3</th>\n",
              "      <td>143.905</td>\n",
              "      <td>81.417</td>\n",
              "      <td>80.943</td>\n",
              "      <td>0.414</td>\n",
              "      <td>-999.00</td>\n",
              "      <td>-999.000</td>\n",
              "      <td>-999.000</td>\n",
              "      <td>3.310</td>\n",
              "      <td>0.414</td>\n",
              "      <td>75.968</td>\n",
              "      <td>2.354</td>\n",
              "      <td>-1.285</td>\n",
              "      <td>-999.0</td>\n",
              "      <td>22.647</td>\n",
              "      <td>-1.655</td>\n",
              "      <td>0.010</td>\n",
              "      <td>53.321</td>\n",
              "      <td>-0.522</td>\n",
              "      <td>-3.100</td>\n",
              "      <td>31.082</td>\n",
              "      <td>0.060</td>\n",
              "      <td>86.062</td>\n",
              "      <td>0</td>\n",
              "      <td>-999.000</td>\n",
              "      <td>-999.000</td>\n",
              "      <td>-999.000</td>\n",
              "      <td>-999.000</td>\n",
              "      <td>-999.00</td>\n",
              "      <td>-999.000</td>\n",
              "      <td>0.000</td>\n",
              "      <td>5.446378</td>\n",
              "      <td>b</td>\n",
              "    </tr>\n",
              "    <tr>\n",
              "      <th>4</th>\n",
              "      <td>175.864</td>\n",
              "      <td>16.915</td>\n",
              "      <td>134.805</td>\n",
              "      <td>16.405</td>\n",
              "      <td>-999.00</td>\n",
              "      <td>-999.000</td>\n",
              "      <td>-999.000</td>\n",
              "      <td>3.891</td>\n",
              "      <td>16.405</td>\n",
              "      <td>57.983</td>\n",
              "      <td>1.056</td>\n",
              "      <td>-1.385</td>\n",
              "      <td>-999.0</td>\n",
              "      <td>28.209</td>\n",
              "      <td>-2.197</td>\n",
              "      <td>-2.231</td>\n",
              "      <td>29.774</td>\n",
              "      <td>0.798</td>\n",
              "      <td>1.569</td>\n",
              "      <td>2.723</td>\n",
              "      <td>-0.871</td>\n",
              "      <td>53.131</td>\n",
              "      <td>0</td>\n",
              "      <td>-999.000</td>\n",
              "      <td>-999.000</td>\n",
              "      <td>-999.000</td>\n",
              "      <td>-999.000</td>\n",
              "      <td>-999.00</td>\n",
              "      <td>-999.000</td>\n",
              "      <td>0.000</td>\n",
              "      <td>6.245333</td>\n",
              "      <td>b</td>\n",
              "    </tr>\n",
              "  </tbody>\n",
              "</table>\n",
              "</div>"
            ],
            "text/plain": [
              "   DER_mass_MMC  DER_mass_transverse_met_lep  ...    Weight  Label\n",
              "0       138.470                       51.655  ...  0.002653      s\n",
              "1       160.937                       68.768  ...  2.233584      b\n",
              "2      -999.000                      162.172  ...  2.347389      b\n",
              "3       143.905                       81.417  ...  5.446378      b\n",
              "4       175.864                       16.915  ...  6.245333      b\n",
              "\n",
              "[5 rows x 32 columns]"
            ]
          },
          "metadata": {
            "tags": []
          },
          "execution_count": 3
        }
      ]
    },
    {
      "cell_type": "code",
      "metadata": {
        "id": "YlgOHLHSpCxM",
        "outputId": "5fa3ee77-aac2-4353-b6bf-2acf0d21a51a",
        "colab": {
          "base_uri": "https://localhost:8080/",
          "height": 279
        }
      },
      "source": [
        "# lets see how many points in each label.\n",
        "import seaborn as sns\n",
        "sns.countplot(df['Label'],label=\"Count\")\n",
        "plt.show()"
      ],
      "execution_count": null,
      "outputs": [
        {
          "output_type": "display_data",
          "data": {
            "image/png": "[encoded data removed]",
            "text/plain": [
              "<Figure size 432x288 with 1 Axes>"
            ]
          },
          "metadata": {
            "tags": [],
            "needs_background": "light"
          }
        }
      ]
    },
    {
      "cell_type": "code",
      "metadata": {
        "id": "RCQrpARMpCxP",
        "outputId": "d426cfda-e8c6-41f0-fbfb-151e9ac4a4b1",
        "colab": {
          "base_uri": "https://localhost:8080/",
          "height": 1000
        }
      },
      "source": [
        "# we want only the features now. lets investigate them via box plot for each variable and drop label as it is not a variable.\n",
        "df.drop('Label', axis=1).plot(kind='box', subplots=True, layout=(6,6), sharex=False, sharey=False, figsize=(16,16), \n",
        "                                        title='Box Plot input variables')\n",
        "plt.savefig('cs_box')\n",
        "plt.show()"
      ],
      "execution_count": null,
      "outputs": [
        {
          "output_type": "display_data",
          "data": {
            "image/png": "[encoded data removed]",
            "text/plain": [
              "<Figure size 1152x1152 with 36 Axes>"
            ]
          },
          "metadata": {
            "tags": [],
            "needs_background": "light"
          }
        }
      ]
    },
    {
      "cell_type": "code",
      "metadata": {
        "id": "Ia2i111lpCxS",
        "outputId": "327f2b37-eda7-45b6-92bd-3c5b930ffe9a",
        "colab": {
          "base_uri": "https://localhost:8080/",
          "height": 1000
        }
      },
      "source": [
        "# time to plot histograms for the features\n",
        "import pylab as pl\n",
        "df.drop('Label' ,axis=1).hist(bins=30, figsize=(16,16))\n",
        "pl.suptitle(\"Histogram for input variables\")\n",
        "plt.savefig('fruits_hist')\n",
        "plt.show()"
      ],
      "execution_count": null,
      "outputs": [
        {
          "output_type": "display_data",
          "data": {
            "image/png": "[encoded data removed]",
            "text/plain": [
              "<Figure size 1152x1152 with 36 Axes>"
            ]
          },
          "metadata": {
            "tags": [],
            "needs_background": "light"
          }
        }
      ]
    },
    {
      "cell_type": "code",
      "metadata": {
        "id": "E--4e1MspCxV",
        "outputId": "6c4a6711-8cb1-4c49-8351-6a7e893dd874",
        "colab": {
          "base_uri": "https://localhost:8080/",
          "height": 204
        }
      },
      "source": [
        "# get the columns index names so that it is easier to name our features later\n",
        "df.columns"
      ],
      "execution_count": null,
      "outputs": [
        {
          "output_type": "execute_result",
          "data": {
            "text/plain": [
              "Index(['DER_mass_MMC', 'DER_mass_transverse_met_lep', 'DER_mass_vis',\n",
              "       'DER_pt_h', 'DER_deltaeta_jet_jet', 'DER_mass_jet_jet',\n",
              "       'DER_prodeta_jet_jet', 'DER_deltar_tau_lep', 'DER_pt_tot', 'DER_sum_pt',\n",
              "       'DER_pt_ratio_lep_tau', 'DER_met_phi_centrality',\n",
              "       'DER_lep_eta_centrality', 'PRI_tau_pt', 'PRI_tau_eta', 'PRI_tau_phi',\n",
              "       'PRI_lep_pt', 'PRI_lep_eta', 'PRI_lep_phi', 'PRI_met', 'PRI_met_phi',\n",
              "       'PRI_met_sumet', 'PRI_jet_num', 'PRI_jet_leading_pt',\n",
              "       'PRI_jet_leading_eta', 'PRI_jet_leading_phi', 'PRI_jet_subleading_pt',\n",
              "       'PRI_jet_subleading_eta', 'PRI_jet_subleading_phi', 'PRI_jet_all_pt',\n",
              "       'Weight', 'Label'],\n",
              "      dtype='object')"
            ]
          },
          "metadata": {
            "tags": []
          },
          "execution_count": 7
        }
      ]
    },
    {
      "cell_type": "code",
      "metadata": {
        "id": "WlhJt6M3pCxY"
      },
      "source": [
        "# lets now define the feature list based on our columns index names\n",
        "feature_names = ['DER_mass_MMC', 'DER_mass_transverse_met_lep',\n",
        "       'DER_mass_vis', 'DER_pt_h', 'DER_deltaeta_jet_jet', 'DER_mass_jet_jet',\n",
        "       'DER_prodeta_jet_jet', 'DER_deltar_tau_lep', 'DER_pt_tot', 'DER_sum_pt',\n",
        "       'DER_pt_ratio_lep_tau', 'DER_met_phi_centrality',\n",
        "       'DER_lep_eta_centrality', 'PRI_tau_pt', 'PRI_tau_eta', 'PRI_tau_phi',\n",
        "       'PRI_lep_pt', 'PRI_lep_eta', 'PRI_lep_phi', 'PRI_met', 'PRI_met_phi',\n",
        "       'PRI_met_sumet', 'PRI_jet_num', 'PRI_jet_leading_pt',\n",
        "       'PRI_jet_leading_eta', 'PRI_jet_leading_phi', 'PRI_jet_subleading_pt',\n",
        "       'PRI_jet_subleading_eta', 'PRI_jet_subleading_phi', 'PRI_jet_all_pt',\n",
        "       'Weight']\n",
        "X = df[feature_names]\n",
        "y = df['Label']"
      ],
      "execution_count": null,
      "outputs": []
    },
    {
      "cell_type": "code",
      "metadata": {
        "id": "ZkqsfUqipCxb",
        "outputId": "57d61fc5-0ea8-4599-a0a0-cd76b13ab175",
        "colab": {
          "base_uri": "https://localhost:8080/",
          "height": 85
        }
      },
      "source": [
        "# use sklearn to define our model and split our data to training and test sets. \n",
        "\n",
        "from sklearn.model_selection import train_test_split\n",
        "X_train, X_test, y_train, y_test = train_test_split(X, y, random_state=0)\n",
        "from sklearn.preprocessing import MinMaxScaler\n",
        "scaler = MinMaxScaler()\n",
        "X_train = scaler.fit_transform(X_train)\n",
        "X_test = scaler.transform(X_test)\n",
        "print(X_train.shape)\n",
        "print(X_test.shape)\n",
        "print(y_train.shape)\n",
        "print(y_test.shape)"
      ],
      "execution_count": null,
      "outputs": [
        {
          "output_type": "stream",
          "text": [
            "(7500, 31)\n",
            "(2500, 31)\n",
            "(7500,)\n",
            "(2500,)\n"
          ],
          "name": "stdout"
        }
      ]
    },
    {
      "cell_type": "code",
      "metadata": {
        "id": "ZznLfPNJpCxk"
      },
      "source": [
        "# training function\n",
        "dfTrain = pd.DataFrame(data=np.column_stack((scaler.inverse_transform(X_train), y_train)),\n",
        "                       columns=['DER_mass_MMC', 'DER_mass_transverse_met_lep',\n",
        "       'DER_mass_vis', 'DER_pt_h', 'DER_deltaeta_jet_jet', 'DER_mass_jet_jet',\n",
        "       'DER_prodeta_jet_jet', 'DER_deltar_tau_lep', 'DER_pt_tot', 'DER_sum_pt',\n",
        "       'DER_pt_ratio_lep_tau', 'DER_met_phi_centrality',\n",
        "       'DER_lep_eta_centrality', 'PRI_tau_pt', 'PRI_tau_eta', 'PRI_tau_phi',\n",
        "       'PRI_lep_pt', 'PRI_lep_eta', 'PRI_lep_phi', 'PRI_met', 'PRI_met_phi',\n",
        "       'PRI_met_sumet', 'PRI_jet_num', 'PRI_jet_leading_pt',\n",
        "       'PRI_jet_leading_eta', 'PRI_jet_leading_phi', 'PRI_jet_subleading_pt',\n",
        "       'PRI_jet_subleading_eta', 'PRI_jet_subleading_phi', 'PRI_jet_all_pt',\n",
        "       'Weight', 'Label'])\n",
        "accTrain=[]\n"
      ],
      "execution_count": null,
      "outputs": []
    },
    {
      "cell_type": "code",
      "metadata": {
        "id": "QrnM0U-MpCxn"
      },
      "source": [
        "# test function\n",
        "\n",
        "dfTest = pd.DataFrame(data=np.column_stack((scaler.inverse_transform(X_test), y_test)),\n",
        "                      columns=['DER_mass_MMC', 'DER_mass_transverse_met_lep',\n",
        "       'DER_mass_vis', 'DER_pt_h', 'DER_deltaeta_jet_jet', 'DER_mass_jet_jet',\n",
        "       'DER_prodeta_jet_jet', 'DER_deltar_tau_lep', 'DER_pt_tot', 'DER_sum_pt',\n",
        "       'DER_pt_ratio_lep_tau', 'DER_met_phi_centrality',\n",
        "       'DER_lep_eta_centrality', 'PRI_tau_pt', 'PRI_tau_eta', 'PRI_tau_phi',\n",
        "       'PRI_lep_pt', 'PRI_lep_eta', 'PRI_lep_phi', 'PRI_met', 'PRI_met_phi',\n",
        "       'PRI_met_sumet', 'PRI_jet_num', 'PRI_jet_leading_pt',\n",
        "       'PRI_jet_leading_eta', 'PRI_jet_leading_phi', 'PRI_jet_subleading_pt',\n",
        "       'PRI_jet_subleading_eta', 'PRI_jet_subleading_phi', 'PRI_jet_all_pt',\n",
        "       'Weight', 'Label'])\n",
        "accTest=[]"
      ],
      "execution_count": null,
      "outputs": []
    },
    {
      "cell_type": "code",
      "metadata": {
        "id": "KxZa-KvEpCxu"
      },
      "source": [
        "# we are testing different algorithms together so lets define a list with their name to embed in our training\n",
        "modelNames=['Logistic', 'DecisionTress','KNN','LDA','GuassianNB','SVM']"
      ],
      "execution_count": null,
      "outputs": []
    },
    {
      "cell_type": "code",
      "metadata": {
        "id": "vWos_XbjpCxx"
      },
      "source": [
        "# define our prediction\n",
        "dfPredictions=pd.DataFrame(data=np.column_stack((scaler.inverse_transform(X_test), y_test)),columns=['DER_mass_MMC', 'DER_mass_transverse_met_lep',\n",
        "       'DER_mass_vis', 'DER_pt_h', 'DER_deltaeta_jet_jet', 'DER_mass_jet_jet',\n",
        "       'DER_prodeta_jet_jet', 'DER_deltar_tau_lep', 'DER_pt_tot', 'DER_sum_pt',\n",
        "       'DER_pt_ratio_lep_tau', 'DER_met_phi_centrality',\n",
        "       'DER_lep_eta_centrality', 'PRI_tau_pt', 'PRI_tau_eta', 'PRI_tau_phi',\n",
        "       'PRI_lep_pt', 'PRI_lep_eta', 'PRI_lep_phi', 'PRI_met', 'PRI_met_phi',\n",
        "       'PRI_met_sumet', 'PRI_jet_num', 'PRI_jet_leading_pt',\n",
        "       'PRI_jet_leading_eta', 'PRI_jet_leading_phi', 'PRI_jet_subleading_pt',\n",
        "       'PRI_jet_subleading_eta', 'PRI_jet_subleading_phi', 'PRI_jet_all_pt',\n",
        "       'Weight', 'Label'])"
      ],
      "execution_count": null,
      "outputs": []
    },
    {
      "cell_type": "code",
      "metadata": {
        "id": "GmIb2lT3pCxz"
      },
      "source": [
        "# define a summary function\n",
        "dfResultsSummary=pd.DataFrame(data=np.row_stack(modelNames), columns=['Model'])"
      ],
      "execution_count": null,
      "outputs": []
    },
    {
      "cell_type": "code",
      "metadata": {
        "id": "PEjSgSqkpCx2",
        "outputId": "79a2cdce-15eb-4c1a-8faf-c1bb934413ce",
        "colab": {
          "base_uri": "https://localhost:8080/",
          "height": 374
        }
      },
      "source": [
        "print(dfPredictions)\n",
        "print(dfResultsSummary)"
      ],
      "execution_count": null,
      "outputs": [
        {
          "output_type": "stream",
          "text": [
            "     DER_mass_MMC DER_mass_transverse_met_lep  ...      Weight Label\n",
            "0         109.146                       8.307  ...   0.0186361     s\n",
            "1         105.492                       25.67  ...   0.0186361     s\n",
            "2          127.42                      41.426  ...   0.0186361     s\n",
            "3         129.726                       10.64  ...   0.0186361     s\n",
            "4          65.301                      49.675  ...      4.5865     b\n",
            "...           ...                         ...  ...         ...   ...\n",
            "2495         -999                       93.17  ...     4.79542     b\n",
            "2496         -999                      84.931  ...    0.744056     b\n",
            "2497       79.396                      64.562  ...     2.30735     b\n",
            "2498      103.837                      38.709  ...  0.00150271     s\n",
            "2499      163.216                     107.553  ...     2.48362     b\n",
            "\n",
            "[2500 rows x 32 columns]\n",
            "           Model\n",
            "0       Logistic\n",
            "1  DecisionTress\n",
            "2            KNN\n",
            "3            LDA\n",
            "4     GuassianNB\n",
            "5            SVM\n"
          ],
          "name": "stdout"
        }
      ]
    },
    {
      "cell_type": "markdown",
      "metadata": {
        "id": "5QVwV-8Is09V"
      },
      "source": [
        "**Now lets start the training for each algorithm**"
      ]
    },
    {
      "cell_type": "markdown",
      "metadata": {
        "id": "xB9v1g9opCx4"
      },
      "source": [
        "# Logistic Regression"
      ]
    },
    {
      "cell_type": "code",
      "metadata": {
        "id": "YdQ-rBnnpCx5",
        "outputId": "3f3ca0c6-3990-4206-e71f-fd9d80568aee",
        "colab": {
          "base_uri": "https://localhost:8080/",
          "height": 51
        }
      },
      "source": [
        "from sklearn.linear_model import LogisticRegression\n",
        "logreg = LogisticRegression()\n",
        "logreg.fit(X_train, y_train)\n",
        "print('Accuracy of Logistic regression classifier on training set: {:.2f}'\n",
        "     .format(logreg.score(X_train, y_train)))\n",
        "print('Accuracy of Logistic regression classifier on test set: {:.2f}'\n",
        "     .format(logreg.score(X_test, y_test)))"
      ],
      "execution_count": null,
      "outputs": [
        {
          "output_type": "stream",
          "text": [
            "Accuracy of Logistic regression classifier on training set: 0.93\n",
            "Accuracy of Logistic regression classifier on test set: 0.94\n"
          ],
          "name": "stdout"
        }
      ]
    },
    {
      "cell_type": "code",
      "metadata": {
        "id": "WXdOWZ5ApCx8"
      },
      "source": [
        "accTrain.append(logreg.score(X_train,y_train))\n",
        "accTest.append(logreg.score(X_test,y_test))\n",
        "dfPredictions[modelNames[0]+'_pred'] = logreg.predict(X_test)"
      ],
      "execution_count": null,
      "outputs": []
    },
    {
      "cell_type": "markdown",
      "metadata": {
        "id": "T6X7jvJvpCx_"
      },
      "source": [
        "# Decision Trees"
      ]
    },
    {
      "cell_type": "code",
      "metadata": {
        "id": "ZE4DQaG5pCx_",
        "outputId": "5355e6ce-4002-49d8-8153-e8d9272d3ea0",
        "colab": {
          "base_uri": "https://localhost:8080/",
          "height": 51
        }
      },
      "source": [
        "from sklearn.tree import DecisionTreeClassifier\n",
        "clf = DecisionTreeClassifier().fit(X_train, y_train)\n",
        "print('Accuracy of Decision Tree classifier on training set: {:.2f}'\n",
        "     .format(clf.score(X_train, y_train)))\n",
        "print('Accuracy of Decision Tree classifier on test set: {:.2f}'\n",
        "     .format(clf.score(X_test, y_test)))"
      ],
      "execution_count": null,
      "outputs": [
        {
          "output_type": "stream",
          "text": [
            "Accuracy of Decision Tree classifier on training set: 1.00\n",
            "Accuracy of Decision Tree classifier on test set: 1.00\n"
          ],
          "name": "stdout"
        }
      ]
    },
    {
      "cell_type": "code",
      "metadata": {
        "id": "thXZBoZypCyD"
      },
      "source": [
        "accTrain.append(clf.score(X_train,y_train))\n",
        "accTest.append(clf.score(X_test,y_test))\n",
        "dfPredictions[modelNames[1]+'_pred'] = clf.predict(X_test)"
      ],
      "execution_count": null,
      "outputs": []
    },
    {
      "cell_type": "markdown",
      "metadata": {
        "id": "NnN5eqalpCyF"
      },
      "source": [
        "# KNN"
      ]
    },
    {
      "cell_type": "code",
      "metadata": {
        "id": "SqvTEV8MpCyG",
        "outputId": "9c812698-122d-4a49-abc6-291c4629adf8",
        "colab": {
          "base_uri": "https://localhost:8080/",
          "height": 51
        }
      },
      "source": [
        "from sklearn.neighbors import KNeighborsClassifier\n",
        "knn = KNeighborsClassifier()\n",
        "knn.fit(X_train, y_train)\n",
        "print('Accuracy of K-NN classifier on training set: {:.2f}'\n",
        "     .format(knn.score(X_train, y_train)))\n",
        "print('Accuracy of K-NN classifier on test set: {:.2f}'\n",
        "     .format(knn.score(X_test, y_test)))"
      ],
      "execution_count": null,
      "outputs": [
        {
          "output_type": "stream",
          "text": [
            "Accuracy of K-NN classifier on training set: 0.90\n",
            "Accuracy of K-NN classifier on test set: 0.86\n"
          ],
          "name": "stdout"
        }
      ]
    },
    {
      "cell_type": "code",
      "metadata": {
        "id": "Pl5C9HT8pCyI"
      },
      "source": [
        "accTrain.append(knn.score(X_train,y_train))\n",
        "accTest.append(knn.score(X_test,y_test))\n",
        "dfPredictions[modelNames[2]+'_pred'] = knn.predict(X_test)"
      ],
      "execution_count": null,
      "outputs": []
    },
    {
      "cell_type": "markdown",
      "metadata": {
        "id": "imCZFv7ppCyL"
      },
      "source": [
        "# LDA"
      ]
    },
    {
      "cell_type": "code",
      "metadata": {
        "id": "8ApT9gL1pCyM",
        "outputId": "6b6872b9-be0f-4986-a3d1-dbf801cfb2d4",
        "colab": {
          "base_uri": "https://localhost:8080/",
          "height": 51
        }
      },
      "source": [
        "from sklearn.discriminant_analysis import LinearDiscriminantAnalysis\n",
        "lda = LinearDiscriminantAnalysis()\n",
        "lda.fit(X_train, y_train)\n",
        "print('Accuracy of LDA classifier on training set: {:.2f}'\n",
        "     .format(lda.score(X_train, y_train)))\n",
        "print('Accuracy of LDA classifier on test set: {:.2f}'\n",
        "     .format(lda.score(X_test, y_test)))"
      ],
      "execution_count": null,
      "outputs": [
        {
          "output_type": "stream",
          "text": [
            "Accuracy of LDA classifier on training set: 0.90\n",
            "Accuracy of LDA classifier on test set: 0.89\n"
          ],
          "name": "stdout"
        }
      ]
    },
    {
      "cell_type": "code",
      "metadata": {
        "id": "CvGi7ScgpCyQ"
      },
      "source": [
        "accTrain.append(lda.score(X_train,y_train))\n",
        "accTest.append(lda.score(X_test,y_test))\n",
        "dfPredictions[modelNames[3]+'_pred'] = lda.predict(X_test)"
      ],
      "execution_count": null,
      "outputs": []
    },
    {
      "cell_type": "markdown",
      "metadata": {
        "id": "nqyLX0jopCyU"
      },
      "source": [
        "# Gaussian"
      ]
    },
    {
      "cell_type": "code",
      "metadata": {
        "id": "C80McyXQpCyU",
        "outputId": "e1f308c0-bfc0-436c-ed64-2636117d1e1a",
        "colab": {
          "base_uri": "https://localhost:8080/",
          "height": 51
        }
      },
      "source": [
        "from sklearn.naive_bayes import GaussianNB\n",
        "gnb = GaussianNB()\n",
        "gnb.fit(X_train, y_train)\n",
        "print('Accuracy of GNB classifier on training set: {:.2f}'\n",
        "     .format(gnb.score(X_train, y_train)))\n",
        "print('Accuracy of GNB classifier on test set: {:.2f}'\n",
        "     .format(gnb.score(X_test, y_test)))"
      ],
      "execution_count": null,
      "outputs": [
        {
          "output_type": "stream",
          "text": [
            "Accuracy of GNB classifier on training set: 0.95\n",
            "Accuracy of GNB classifier on test set: 0.95\n"
          ],
          "name": "stdout"
        }
      ]
    },
    {
      "cell_type": "code",
      "metadata": {
        "id": "XW8lrjvwpCyX"
      },
      "source": [
        "accTrain.append(gnb.score(X_train,y_train))\n",
        "accTest.append(gnb.score(X_test,y_test))\n",
        "dfPredictions[modelNames[5]+'_pred'] = gnb.predict(X_test)"
      ],
      "execution_count": null,
      "outputs": []
    },
    {
      "cell_type": "markdown",
      "metadata": {
        "id": "MM_ciKwWpCyZ"
      },
      "source": [
        "# SVM"
      ]
    },
    {
      "cell_type": "code",
      "metadata": {
        "id": "QbAmlq2xpCya",
        "outputId": "d08ab24f-8f06-4e37-b908-fb6884b23001",
        "colab": {
          "base_uri": "https://localhost:8080/",
          "height": 51
        }
      },
      "source": [
        "from sklearn.svm import SVC\n",
        "svm = SVC()\n",
        "svm.fit(X_train, y_train)\n",
        "print('Accuracy of SVM classifier on training set: {:.2f}'\n",
        "     .format(svm.score(X_train, y_train)))\n",
        "print('Accuracy of SVM classifier on test set: {:.2f}'\n",
        "     .format(svm.score(X_test, y_test)))"
      ],
      "execution_count": null,
      "outputs": [
        {
          "output_type": "stream",
          "text": [
            "Accuracy of SVM classifier on training set: 0.92\n",
            "Accuracy of SVM classifier on test set: 0.92\n"
          ],
          "name": "stdout"
        }
      ]
    },
    {
      "cell_type": "code",
      "metadata": {
        "id": "C9B5gfDppCyc"
      },
      "source": [
        "accTrain.append(svm.score(X_train,y_train))\n",
        "accTest.append(svm.score(X_test,y_test))\n",
        "dfPredictions[modelNames[5]+'_pred'] = svm.predict(X_test)\n"
      ],
      "execution_count": null,
      "outputs": []
    },
    {
      "cell_type": "code",
      "metadata": {
        "id": "cQsEISyCpCyh"
      },
      "source": [
        "dfResultsSummary['acc_train']=accTrain\n",
        "dfResultsSummary['acc_test']=accTest\n"
      ],
      "execution_count": null,
      "outputs": []
    },
    {
      "cell_type": "code",
      "metadata": {
        "id": "wqLOEg3_pCyl",
        "outputId": "d55353b1-a714-4215-88a7-cfa95d744727",
        "colab": {
          "base_uri": "https://localhost:8080/",
          "height": 119
        }
      },
      "source": [
        "accTrain"
      ],
      "execution_count": null,
      "outputs": [
        {
          "output_type": "execute_result",
          "data": {
            "text/plain": [
              "[0.9336,\n",
              " 1.0,\n",
              " 0.9037333333333334,\n",
              " 0.8966666666666666,\n",
              " 0.9469333333333333,\n",
              " 0.9190666666666667]"
            ]
          },
          "metadata": {
            "tags": []
          },
          "execution_count": 29
        }
      ]
    },
    {
      "cell_type": "code",
      "metadata": {
        "id": "slwPLLbEpCyn",
        "outputId": "acaa360f-ee56-4710-febb-7a86b27ee696",
        "colab": {
          "base_uri": "https://localhost:8080/",
          "height": 34
        }
      },
      "source": [
        "accTest"
      ],
      "execution_count": null,
      "outputs": [
        {
          "output_type": "execute_result",
          "data": {
            "text/plain": [
              "[0.9372, 1.0, 0.8604, 0.8872, 0.9548, 0.9188]"
            ]
          },
          "metadata": {
            "tags": []
          },
          "execution_count": 30
        }
      ]
    },
    {
      "cell_type": "code",
      "metadata": {
        "id": "WaychXxEpCyp",
        "outputId": "9398de7b-8527-4375-83fb-7863387d9f38",
        "colab": {
          "base_uri": "https://localhost:8080/",
          "height": 235
        }
      },
      "source": [
        "dfResultsSummary"
      ],
      "execution_count": null,
      "outputs": [
        {
          "output_type": "execute_result",
          "data": {
            "text/html": [
              "<div>\n",
              "<style scoped>\n",
              "    .dataframe tbody tr th:only-of-type {\n",
              "        vertical-align: middle;\n",
              "    }\n",
              "\n",
              "    .dataframe tbody tr th {\n",
              "        vertical-align: top;\n",
              "    }\n",
              "\n",
              "    .dataframe thead th {\n",
              "        text-align: right;\n",
              "    }\n",
              "</style>\n",
              "<table border=\"1\" class=\"dataframe\">\n",
              "  <thead>\n",
              "    <tr style=\"text-align: right;\">\n",
              "      <th></th>\n",
              "      <th>Model</th>\n",
              "      <th>acc_train</th>\n",
              "      <th>acc_test</th>\n",
              "    </tr>\n",
              "  </thead>\n",
              "  <tbody>\n",
              "    <tr>\n",
              "      <th>0</th>\n",
              "      <td>Logistic</td>\n",
              "      <td>0.933600</td>\n",
              "      <td>0.9372</td>\n",
              "    </tr>\n",
              "    <tr>\n",
              "      <th>1</th>\n",
              "      <td>DecisionTress</td>\n",
              "      <td>1.000000</td>\n",
              "      <td>1.0000</td>\n",
              "    </tr>\n",
              "    <tr>\n",
              "      <th>2</th>\n",
              "      <td>KNN</td>\n",
              "      <td>0.903733</td>\n",
              "      <td>0.8604</td>\n",
              "    </tr>\n",
              "    <tr>\n",
              "      <th>3</th>\n",
              "      <td>LDA</td>\n",
              "      <td>0.896667</td>\n",
              "      <td>0.8872</td>\n",
              "    </tr>\n",
              "    <tr>\n",
              "      <th>4</th>\n",
              "      <td>GuassianNB</td>\n",
              "      <td>0.946933</td>\n",
              "      <td>0.9548</td>\n",
              "    </tr>\n",
              "    <tr>\n",
              "      <th>5</th>\n",
              "      <td>SVM</td>\n",
              "      <td>0.919067</td>\n",
              "      <td>0.9188</td>\n",
              "    </tr>\n",
              "  </tbody>\n",
              "</table>\n",
              "</div>"
            ],
            "text/plain": [
              "           Model  acc_train  acc_test\n",
              "0       Logistic   0.933600    0.9372\n",
              "1  DecisionTress   1.000000    1.0000\n",
              "2            KNN   0.903733    0.8604\n",
              "3            LDA   0.896667    0.8872\n",
              "4     GuassianNB   0.946933    0.9548\n",
              "5            SVM   0.919067    0.9188"
            ]
          },
          "metadata": {
            "tags": []
          },
          "execution_count": 31
        }
      ]
    },
    {
      "cell_type": "code",
      "metadata": {
        "id": "UZFbYUUMpCyr",
        "outputId": "5c086a8c-c6e9-4585-ceb8-53ea116d381b",
        "colab": {
          "base_uri": "https://localhost:8080/",
          "height": 224
        }
      },
      "source": [
        "dfTrain.head()"
      ],
      "execution_count": null,
      "outputs": [
        {
          "output_type": "execute_result",
          "data": {
            "text/html": [
              "<div>\n",
              "<style scoped>\n",
              "    .dataframe tbody tr th:only-of-type {\n",
              "        vertical-align: middle;\n",
              "    }\n",
              "\n",
              "    .dataframe tbody tr th {\n",
              "        vertical-align: top;\n",
              "    }\n",
              "\n",
              "    .dataframe thead th {\n",
              "        text-align: right;\n",
              "    }\n",
              "</style>\n",
              "<table border=\"1\" class=\"dataframe\">\n",
              "  <thead>\n",
              "    <tr style=\"text-align: right;\">\n",
              "      <th></th>\n",
              "      <th>DER_mass_MMC</th>\n",
              "      <th>DER_mass_transverse_met_lep</th>\n",
              "      <th>DER_mass_vis</th>\n",
              "      <th>DER_pt_h</th>\n",
              "      <th>DER_deltaeta_jet_jet</th>\n",
              "      <th>DER_mass_jet_jet</th>\n",
              "      <th>DER_prodeta_jet_jet</th>\n",
              "      <th>DER_deltar_tau_lep</th>\n",
              "      <th>DER_pt_tot</th>\n",
              "      <th>DER_sum_pt</th>\n",
              "      <th>DER_pt_ratio_lep_tau</th>\n",
              "      <th>DER_met_phi_centrality</th>\n",
              "      <th>DER_lep_eta_centrality</th>\n",
              "      <th>PRI_tau_pt</th>\n",
              "      <th>PRI_tau_eta</th>\n",
              "      <th>PRI_tau_phi</th>\n",
              "      <th>PRI_lep_pt</th>\n",
              "      <th>PRI_lep_eta</th>\n",
              "      <th>PRI_lep_phi</th>\n",
              "      <th>PRI_met</th>\n",
              "      <th>PRI_met_phi</th>\n",
              "      <th>PRI_met_sumet</th>\n",
              "      <th>PRI_jet_num</th>\n",
              "      <th>PRI_jet_leading_pt</th>\n",
              "      <th>PRI_jet_leading_eta</th>\n",
              "      <th>PRI_jet_leading_phi</th>\n",
              "      <th>PRI_jet_subleading_pt</th>\n",
              "      <th>PRI_jet_subleading_eta</th>\n",
              "      <th>PRI_jet_subleading_phi</th>\n",
              "      <th>PRI_jet_all_pt</th>\n",
              "      <th>Weight</th>\n",
              "      <th>Label</th>\n",
              "    </tr>\n",
              "  </thead>\n",
              "  <tbody>\n",
              "    <tr>\n",
              "      <th>0</th>\n",
              "      <td>58.496</td>\n",
              "      <td>57.18</td>\n",
              "      <td>41.678</td>\n",
              "      <td>34.64</td>\n",
              "      <td>-999</td>\n",
              "      <td>-999</td>\n",
              "      <td>-999</td>\n",
              "      <td>1.93</td>\n",
              "      <td>34.64</td>\n",
              "      <td>49.897</td>\n",
              "      <td>1.255</td>\n",
              "      <td>-0.388</td>\n",
              "      <td>-999</td>\n",
              "      <td>22.125</td>\n",
              "      <td>-2.142</td>\n",
              "      <td>-2.558</td>\n",
              "      <td>27.772</td>\n",
              "      <td>-1.657</td>\n",
              "      <td>-0.69</td>\n",
              "      <td>30.829</td>\n",
              "      <td>2.88</td>\n",
              "      <td>130.316</td>\n",
              "      <td>0</td>\n",
              "      <td>-999</td>\n",
              "      <td>-999</td>\n",
              "      <td>-999</td>\n",
              "      <td>-999</td>\n",
              "      <td>-999</td>\n",
              "      <td>-999</td>\n",
              "      <td>0</td>\n",
              "      <td>2.02191</td>\n",
              "      <td>b</td>\n",
              "    </tr>\n",
              "    <tr>\n",
              "      <th>1</th>\n",
              "      <td>130.708</td>\n",
              "      <td>67.3</td>\n",
              "      <td>79.35</td>\n",
              "      <td>134.895</td>\n",
              "      <td>-999</td>\n",
              "      <td>-999</td>\n",
              "      <td>-999</td>\n",
              "      <td>1.802</td>\n",
              "      <td>44.967</td>\n",
              "      <td>210.205</td>\n",
              "      <td>0.57</td>\n",
              "      <td>0.867</td>\n",
              "      <td>-999</td>\n",
              "      <td>60.064</td>\n",
              "      <td>1.026</td>\n",
              "      <td>-1.733</td>\n",
              "      <td>34.218</td>\n",
              "      <td>2.135</td>\n",
              "      <td>-0.313</td>\n",
              "      <td>67.843</td>\n",
              "      <td>-1.859</td>\n",
              "      <td>387.224</td>\n",
              "      <td>1</td>\n",
              "      <td>115.922</td>\n",
              "      <td>-1.327</td>\n",
              "      <td>1.27</td>\n",
              "      <td>-999</td>\n",
              "      <td>-999</td>\n",
              "      <td>-999</td>\n",
              "      <td>115.922</td>\n",
              "      <td>0.00150271</td>\n",
              "      <td>s</td>\n",
              "    </tr>\n",
              "    <tr>\n",
              "      <th>2</th>\n",
              "      <td>177.874</td>\n",
              "      <td>108.602</td>\n",
              "      <td>86.564</td>\n",
              "      <td>31.787</td>\n",
              "      <td>-999</td>\n",
              "      <td>-999</td>\n",
              "      <td>-999</td>\n",
              "      <td>3.146</td>\n",
              "      <td>31.787</td>\n",
              "      <td>72.713</td>\n",
              "      <td>2.152</td>\n",
              "      <td>-1.094</td>\n",
              "      <td>-999</td>\n",
              "      <td>23.068</td>\n",
              "      <td>-2.133</td>\n",
              "      <td>1.215</td>\n",
              "      <td>49.645</td>\n",
              "      <td>-0.639</td>\n",
              "      <td>-2.299</td>\n",
              "      <td>59.418</td>\n",
              "      <td>0.803</td>\n",
              "      <td>78.826</td>\n",
              "      <td>0</td>\n",
              "      <td>-999</td>\n",
              "      <td>-999</td>\n",
              "      <td>-999</td>\n",
              "      <td>-999</td>\n",
              "      <td>-999</td>\n",
              "      <td>-999</td>\n",
              "      <td>0</td>\n",
              "      <td>2.58149</td>\n",
              "      <td>b</td>\n",
              "    </tr>\n",
              "    <tr>\n",
              "      <th>3</th>\n",
              "      <td>75.155</td>\n",
              "      <td>53.258</td>\n",
              "      <td>65.509</td>\n",
              "      <td>21.491</td>\n",
              "      <td>-999</td>\n",
              "      <td>-999</td>\n",
              "      <td>-999</td>\n",
              "      <td>2.068</td>\n",
              "      <td>21.491</td>\n",
              "      <td>63.329</td>\n",
              "      <td>0.84</td>\n",
              "      <td>-1.399</td>\n",
              "      <td>-999</td>\n",
              "      <td>34.411</td>\n",
              "      <td>0.113</td>\n",
              "      <td>0.871</td>\n",
              "      <td>28.918</td>\n",
              "      <td>1.566</td>\n",
              "      <td>2.344</td>\n",
              "      <td>26.911</td>\n",
              "      <td>-1.403</td>\n",
              "      <td>123.379</td>\n",
              "      <td>0</td>\n",
              "      <td>-999</td>\n",
              "      <td>-999</td>\n",
              "      <td>-999</td>\n",
              "      <td>-999</td>\n",
              "      <td>-999</td>\n",
              "      <td>-999</td>\n",
              "      <td>0</td>\n",
              "      <td>2.18346</td>\n",
              "      <td>b</td>\n",
              "    </tr>\n",
              "    <tr>\n",
              "      <th>4</th>\n",
              "      <td>88.92</td>\n",
              "      <td>9.326</td>\n",
              "      <td>63.434</td>\n",
              "      <td>27.932</td>\n",
              "      <td>-999</td>\n",
              "      <td>-999</td>\n",
              "      <td>-999</td>\n",
              "      <td>2.542</td>\n",
              "      <td>27.932</td>\n",
              "      <td>66.162</td>\n",
              "      <td>0.666</td>\n",
              "      <td>1.394</td>\n",
              "      <td>-999</td>\n",
              "      <td>39.715</td>\n",
              "      <td>-2.073</td>\n",
              "      <td>0.266</td>\n",
              "      <td>26.447</td>\n",
              "      <td>-1.596</td>\n",
              "      <td>2.763</td>\n",
              "      <td>5.78</td>\n",
              "      <td>1.989</td>\n",
              "      <td>122.919</td>\n",
              "      <td>0</td>\n",
              "      <td>-999</td>\n",
              "      <td>-999</td>\n",
              "      <td>-999</td>\n",
              "      <td>-999</td>\n",
              "      <td>-999</td>\n",
              "      <td>-999</td>\n",
              "      <td>0</td>\n",
              "      <td>0.0186361</td>\n",
              "      <td>s</td>\n",
              "    </tr>\n",
              "  </tbody>\n",
              "</table>\n",
              "</div>"
            ],
            "text/plain": [
              "  DER_mass_MMC DER_mass_transverse_met_lep  ...      Weight Label\n",
              "0       58.496                       57.18  ...     2.02191     b\n",
              "1      130.708                        67.3  ...  0.00150271     s\n",
              "2      177.874                     108.602  ...     2.58149     b\n",
              "3       75.155                      53.258  ...     2.18346     b\n",
              "4        88.92                       9.326  ...   0.0186361     s\n",
              "\n",
              "[5 rows x 32 columns]"
            ]
          },
          "metadata": {
            "tags": []
          },
          "execution_count": 32
        }
      ]
    },
    {
      "cell_type": "code",
      "metadata": {
        "id": "N93Kmy8RpCyt",
        "outputId": "567269e9-2d0d-4e3a-c830-1f781f41eb0f",
        "colab": {
          "base_uri": "https://localhost:8080/",
          "height": 224
        }
      },
      "source": [
        "dfTest.head()"
      ],
      "execution_count": null,
      "outputs": [
        {
          "output_type": "execute_result",
          "data": {
            "text/html": [
              "<div>\n",
              "<style scoped>\n",
              "    .dataframe tbody tr th:only-of-type {\n",
              "        vertical-align: middle;\n",
              "    }\n",
              "\n",
              "    .dataframe tbody tr th {\n",
              "        vertical-align: top;\n",
              "    }\n",
              "\n",
              "    .dataframe thead th {\n",
              "        text-align: right;\n",
              "    }\n",
              "</style>\n",
              "<table border=\"1\" class=\"dataframe\">\n",
              "  <thead>\n",
              "    <tr style=\"text-align: right;\">\n",
              "      <th></th>\n",
              "      <th>DER_mass_MMC</th>\n",
              "      <th>DER_mass_transverse_met_lep</th>\n",
              "      <th>DER_mass_vis</th>\n",
              "      <th>DER_pt_h</th>\n",
              "      <th>DER_deltaeta_jet_jet</th>\n",
              "      <th>DER_mass_jet_jet</th>\n",
              "      <th>DER_prodeta_jet_jet</th>\n",
              "      <th>DER_deltar_tau_lep</th>\n",
              "      <th>DER_pt_tot</th>\n",
              "      <th>DER_sum_pt</th>\n",
              "      <th>DER_pt_ratio_lep_tau</th>\n",
              "      <th>DER_met_phi_centrality</th>\n",
              "      <th>DER_lep_eta_centrality</th>\n",
              "      <th>PRI_tau_pt</th>\n",
              "      <th>PRI_tau_eta</th>\n",
              "      <th>PRI_tau_phi</th>\n",
              "      <th>PRI_lep_pt</th>\n",
              "      <th>PRI_lep_eta</th>\n",
              "      <th>PRI_lep_phi</th>\n",
              "      <th>PRI_met</th>\n",
              "      <th>PRI_met_phi</th>\n",
              "      <th>PRI_met_sumet</th>\n",
              "      <th>PRI_jet_num</th>\n",
              "      <th>PRI_jet_leading_pt</th>\n",
              "      <th>PRI_jet_leading_eta</th>\n",
              "      <th>PRI_jet_leading_phi</th>\n",
              "      <th>PRI_jet_subleading_pt</th>\n",
              "      <th>PRI_jet_subleading_eta</th>\n",
              "      <th>PRI_jet_subleading_phi</th>\n",
              "      <th>PRI_jet_all_pt</th>\n",
              "      <th>Weight</th>\n",
              "      <th>Label</th>\n",
              "    </tr>\n",
              "  </thead>\n",
              "  <tbody>\n",
              "    <tr>\n",
              "      <th>0</th>\n",
              "      <td>109.146</td>\n",
              "      <td>8.307</td>\n",
              "      <td>82.867</td>\n",
              "      <td>3.706</td>\n",
              "      <td>-999</td>\n",
              "      <td>-999</td>\n",
              "      <td>-999</td>\n",
              "      <td>3.08</td>\n",
              "      <td>3.706</td>\n",
              "      <td>82.781</td>\n",
              "      <td>1.006</td>\n",
              "      <td>-1.413</td>\n",
              "      <td>-999</td>\n",
              "      <td>41.274</td>\n",
              "      <td>-0.366</td>\n",
              "      <td>0.97</td>\n",
              "      <td>41.507</td>\n",
              "      <td>-0.469</td>\n",
              "      <td>-2.109</td>\n",
              "      <td>4.221</td>\n",
              "      <td>-2.747</td>\n",
              "      <td>140.708</td>\n",
              "      <td>0</td>\n",
              "      <td>-999</td>\n",
              "      <td>-999</td>\n",
              "      <td>-999</td>\n",
              "      <td>-999</td>\n",
              "      <td>-999</td>\n",
              "      <td>-999</td>\n",
              "      <td>0</td>\n",
              "      <td>0.0186361</td>\n",
              "      <td>s</td>\n",
              "    </tr>\n",
              "    <tr>\n",
              "      <th>1</th>\n",
              "      <td>105.492</td>\n",
              "      <td>25.67</td>\n",
              "      <td>83.365</td>\n",
              "      <td>24.406</td>\n",
              "      <td>-999</td>\n",
              "      <td>-999</td>\n",
              "      <td>-999</td>\n",
              "      <td>2.597</td>\n",
              "      <td>24.406</td>\n",
              "      <td>72.056</td>\n",
              "      <td>0.926</td>\n",
              "      <td>-1.201</td>\n",
              "      <td>-999</td>\n",
              "      <td>37.412</td>\n",
              "      <td>-2.415</td>\n",
              "      <td>-0.103</td>\n",
              "      <td>34.644</td>\n",
              "      <td>-1.05</td>\n",
              "      <td>-2.312</td>\n",
              "      <td>16.185</td>\n",
              "      <td>2.825</td>\n",
              "      <td>135.498</td>\n",
              "      <td>0</td>\n",
              "      <td>-999</td>\n",
              "      <td>-999</td>\n",
              "      <td>-999</td>\n",
              "      <td>-999</td>\n",
              "      <td>-999</td>\n",
              "      <td>-999</td>\n",
              "      <td>0</td>\n",
              "      <td>0.0186361</td>\n",
              "      <td>s</td>\n",
              "    </tr>\n",
              "    <tr>\n",
              "      <th>2</th>\n",
              "      <td>127.42</td>\n",
              "      <td>41.426</td>\n",
              "      <td>95.135</td>\n",
              "      <td>3.374</td>\n",
              "      <td>-999</td>\n",
              "      <td>-999</td>\n",
              "      <td>-999</td>\n",
              "      <td>2.84</td>\n",
              "      <td>3.374</td>\n",
              "      <td>86.727</td>\n",
              "      <td>0.89</td>\n",
              "      <td>-1.409</td>\n",
              "      <td>-999</td>\n",
              "      <td>45.891</td>\n",
              "      <td>1.459</td>\n",
              "      <td>-2.029</td>\n",
              "      <td>40.835</td>\n",
              "      <td>0.473</td>\n",
              "      <td>1.59</td>\n",
              "      <td>23.458</td>\n",
              "      <td>0.124</td>\n",
              "      <td>121.257</td>\n",
              "      <td>0</td>\n",
              "      <td>-999</td>\n",
              "      <td>-999</td>\n",
              "      <td>-999</td>\n",
              "      <td>-999</td>\n",
              "      <td>-999</td>\n",
              "      <td>-999</td>\n",
              "      <td>0</td>\n",
              "      <td>0.0186361</td>\n",
              "      <td>s</td>\n",
              "    </tr>\n",
              "    <tr>\n",
              "      <th>3</th>\n",
              "      <td>129.726</td>\n",
              "      <td>10.64</td>\n",
              "      <td>87.275</td>\n",
              "      <td>69.824</td>\n",
              "      <td>-999</td>\n",
              "      <td>-999</td>\n",
              "      <td>-999</td>\n",
              "      <td>2.493</td>\n",
              "      <td>1.386</td>\n",
              "      <td>159.469</td>\n",
              "      <td>1.463</td>\n",
              "      <td>1.239</td>\n",
              "      <td>-999</td>\n",
              "      <td>36.612</td>\n",
              "      <td>-0.513</td>\n",
              "      <td>-1.345</td>\n",
              "      <td>53.575</td>\n",
              "      <td>-1.123</td>\n",
              "      <td>2.522</td>\n",
              "      <td>36.438</td>\n",
              "      <td>2.763</td>\n",
              "      <td>207.245</td>\n",
              "      <td>1</td>\n",
              "      <td>69.282</td>\n",
              "      <td>-0.453</td>\n",
              "      <td>-0.146</td>\n",
              "      <td>-999</td>\n",
              "      <td>-999</td>\n",
              "      <td>-999</td>\n",
              "      <td>69.282</td>\n",
              "      <td>0.0186361</td>\n",
              "      <td>s</td>\n",
              "    </tr>\n",
              "    <tr>\n",
              "      <th>4</th>\n",
              "      <td>65.301</td>\n",
              "      <td>49.675</td>\n",
              "      <td>49.392</td>\n",
              "      <td>3.436</td>\n",
              "      <td>-999</td>\n",
              "      <td>-999</td>\n",
              "      <td>-999</td>\n",
              "      <td>2.346</td>\n",
              "      <td>3.436</td>\n",
              "      <td>54.019</td>\n",
              "      <td>1.517</td>\n",
              "      <td>-1.402</td>\n",
              "      <td>-999</td>\n",
              "      <td>21.461</td>\n",
              "      <td>1.606</td>\n",
              "      <td>0.876</td>\n",
              "      <td>32.558</td>\n",
              "      <td>1.962</td>\n",
              "      <td>-3.088</td>\n",
              "      <td>22.941</td>\n",
              "      <td>-0.808</td>\n",
              "      <td>133.638</td>\n",
              "      <td>0</td>\n",
              "      <td>-999</td>\n",
              "      <td>-999</td>\n",
              "      <td>-999</td>\n",
              "      <td>-999</td>\n",
              "      <td>-999</td>\n",
              "      <td>-999</td>\n",
              "      <td>0</td>\n",
              "      <td>4.5865</td>\n",
              "      <td>b</td>\n",
              "    </tr>\n",
              "  </tbody>\n",
              "</table>\n",
              "</div>"
            ],
            "text/plain": [
              "  DER_mass_MMC DER_mass_transverse_met_lep  ...     Weight Label\n",
              "0      109.146                       8.307  ...  0.0186361     s\n",
              "1      105.492                       25.67  ...  0.0186361     s\n",
              "2       127.42                      41.426  ...  0.0186361     s\n",
              "3      129.726                       10.64  ...  0.0186361     s\n",
              "4       65.301                      49.675  ...     4.5865     b\n",
              "\n",
              "[5 rows x 32 columns]"
            ]
          },
          "metadata": {
            "tags": []
          },
          "execution_count": 33
        }
      ]
    },
    {
      "cell_type": "code",
      "metadata": {
        "id": "6ELQrjxXpCyv",
        "outputId": "e64f20ea-65e2-4518-e774-f0fc0eeae6f2",
        "colab": {
          "base_uri": "https://localhost:8080/",
          "height": 224
        }
      },
      "source": [
        "dfPredictions.head()"
      ],
      "execution_count": null,
      "outputs": [
        {
          "output_type": "execute_result",
          "data": {
            "text/html": [
              "<div>\n",
              "<style scoped>\n",
              "    .dataframe tbody tr th:only-of-type {\n",
              "        vertical-align: middle;\n",
              "    }\n",
              "\n",
              "    .dataframe tbody tr th {\n",
              "        vertical-align: top;\n",
              "    }\n",
              "\n",
              "    .dataframe thead th {\n",
              "        text-align: right;\n",
              "    }\n",
              "</style>\n",
              "<table border=\"1\" class=\"dataframe\">\n",
              "  <thead>\n",
              "    <tr style=\"text-align: right;\">\n",
              "      <th></th>\n",
              "      <th>DER_mass_MMC</th>\n",
              "      <th>DER_mass_transverse_met_lep</th>\n",
              "      <th>DER_mass_vis</th>\n",
              "      <th>DER_pt_h</th>\n",
              "      <th>DER_deltaeta_jet_jet</th>\n",
              "      <th>DER_mass_jet_jet</th>\n",
              "      <th>DER_prodeta_jet_jet</th>\n",
              "      <th>DER_deltar_tau_lep</th>\n",
              "      <th>DER_pt_tot</th>\n",
              "      <th>DER_sum_pt</th>\n",
              "      <th>DER_pt_ratio_lep_tau</th>\n",
              "      <th>DER_met_phi_centrality</th>\n",
              "      <th>DER_lep_eta_centrality</th>\n",
              "      <th>PRI_tau_pt</th>\n",
              "      <th>PRI_tau_eta</th>\n",
              "      <th>PRI_tau_phi</th>\n",
              "      <th>PRI_lep_pt</th>\n",
              "      <th>PRI_lep_eta</th>\n",
              "      <th>PRI_lep_phi</th>\n",
              "      <th>PRI_met</th>\n",
              "      <th>PRI_met_phi</th>\n",
              "      <th>PRI_met_sumet</th>\n",
              "      <th>PRI_jet_num</th>\n",
              "      <th>PRI_jet_leading_pt</th>\n",
              "      <th>PRI_jet_leading_eta</th>\n",
              "      <th>PRI_jet_leading_phi</th>\n",
              "      <th>PRI_jet_subleading_pt</th>\n",
              "      <th>PRI_jet_subleading_eta</th>\n",
              "      <th>PRI_jet_subleading_phi</th>\n",
              "      <th>PRI_jet_all_pt</th>\n",
              "      <th>Weight</th>\n",
              "      <th>Label</th>\n",
              "      <th>Logistic_pred</th>\n",
              "      <th>DecisionTress_pred</th>\n",
              "      <th>KNN_pred</th>\n",
              "      <th>LDA_pred</th>\n",
              "      <th>SVM_pred</th>\n",
              "    </tr>\n",
              "  </thead>\n",
              "  <tbody>\n",
              "    <tr>\n",
              "      <th>0</th>\n",
              "      <td>109.146</td>\n",
              "      <td>8.307</td>\n",
              "      <td>82.867</td>\n",
              "      <td>3.706</td>\n",
              "      <td>-999</td>\n",
              "      <td>-999</td>\n",
              "      <td>-999</td>\n",
              "      <td>3.08</td>\n",
              "      <td>3.706</td>\n",
              "      <td>82.781</td>\n",
              "      <td>1.006</td>\n",
              "      <td>-1.413</td>\n",
              "      <td>-999</td>\n",
              "      <td>41.274</td>\n",
              "      <td>-0.366</td>\n",
              "      <td>0.97</td>\n",
              "      <td>41.507</td>\n",
              "      <td>-0.469</td>\n",
              "      <td>-2.109</td>\n",
              "      <td>4.221</td>\n",
              "      <td>-2.747</td>\n",
              "      <td>140.708</td>\n",
              "      <td>0</td>\n",
              "      <td>-999</td>\n",
              "      <td>-999</td>\n",
              "      <td>-999</td>\n",
              "      <td>-999</td>\n",
              "      <td>-999</td>\n",
              "      <td>-999</td>\n",
              "      <td>0</td>\n",
              "      <td>0.0186361</td>\n",
              "      <td>s</td>\n",
              "      <td>s</td>\n",
              "      <td>s</td>\n",
              "      <td>s</td>\n",
              "      <td>s</td>\n",
              "      <td>s</td>\n",
              "    </tr>\n",
              "    <tr>\n",
              "      <th>1</th>\n",
              "      <td>105.492</td>\n",
              "      <td>25.67</td>\n",
              "      <td>83.365</td>\n",
              "      <td>24.406</td>\n",
              "      <td>-999</td>\n",
              "      <td>-999</td>\n",
              "      <td>-999</td>\n",
              "      <td>2.597</td>\n",
              "      <td>24.406</td>\n",
              "      <td>72.056</td>\n",
              "      <td>0.926</td>\n",
              "      <td>-1.201</td>\n",
              "      <td>-999</td>\n",
              "      <td>37.412</td>\n",
              "      <td>-2.415</td>\n",
              "      <td>-0.103</td>\n",
              "      <td>34.644</td>\n",
              "      <td>-1.05</td>\n",
              "      <td>-2.312</td>\n",
              "      <td>16.185</td>\n",
              "      <td>2.825</td>\n",
              "      <td>135.498</td>\n",
              "      <td>0</td>\n",
              "      <td>-999</td>\n",
              "      <td>-999</td>\n",
              "      <td>-999</td>\n",
              "      <td>-999</td>\n",
              "      <td>-999</td>\n",
              "      <td>-999</td>\n",
              "      <td>0</td>\n",
              "      <td>0.0186361</td>\n",
              "      <td>s</td>\n",
              "      <td>s</td>\n",
              "      <td>s</td>\n",
              "      <td>s</td>\n",
              "      <td>s</td>\n",
              "      <td>s</td>\n",
              "    </tr>\n",
              "    <tr>\n",
              "      <th>2</th>\n",
              "      <td>127.42</td>\n",
              "      <td>41.426</td>\n",
              "      <td>95.135</td>\n",
              "      <td>3.374</td>\n",
              "      <td>-999</td>\n",
              "      <td>-999</td>\n",
              "      <td>-999</td>\n",
              "      <td>2.84</td>\n",
              "      <td>3.374</td>\n",
              "      <td>86.727</td>\n",
              "      <td>0.89</td>\n",
              "      <td>-1.409</td>\n",
              "      <td>-999</td>\n",
              "      <td>45.891</td>\n",
              "      <td>1.459</td>\n",
              "      <td>-2.029</td>\n",
              "      <td>40.835</td>\n",
              "      <td>0.473</td>\n",
              "      <td>1.59</td>\n",
              "      <td>23.458</td>\n",
              "      <td>0.124</td>\n",
              "      <td>121.257</td>\n",
              "      <td>0</td>\n",
              "      <td>-999</td>\n",
              "      <td>-999</td>\n",
              "      <td>-999</td>\n",
              "      <td>-999</td>\n",
              "      <td>-999</td>\n",
              "      <td>-999</td>\n",
              "      <td>0</td>\n",
              "      <td>0.0186361</td>\n",
              "      <td>s</td>\n",
              "      <td>s</td>\n",
              "      <td>s</td>\n",
              "      <td>s</td>\n",
              "      <td>s</td>\n",
              "      <td>s</td>\n",
              "    </tr>\n",
              "    <tr>\n",
              "      <th>3</th>\n",
              "      <td>129.726</td>\n",
              "      <td>10.64</td>\n",
              "      <td>87.275</td>\n",
              "      <td>69.824</td>\n",
              "      <td>-999</td>\n",
              "      <td>-999</td>\n",
              "      <td>-999</td>\n",
              "      <td>2.493</td>\n",
              "      <td>1.386</td>\n",
              "      <td>159.469</td>\n",
              "      <td>1.463</td>\n",
              "      <td>1.239</td>\n",
              "      <td>-999</td>\n",
              "      <td>36.612</td>\n",
              "      <td>-0.513</td>\n",
              "      <td>-1.345</td>\n",
              "      <td>53.575</td>\n",
              "      <td>-1.123</td>\n",
              "      <td>2.522</td>\n",
              "      <td>36.438</td>\n",
              "      <td>2.763</td>\n",
              "      <td>207.245</td>\n",
              "      <td>1</td>\n",
              "      <td>69.282</td>\n",
              "      <td>-0.453</td>\n",
              "      <td>-0.146</td>\n",
              "      <td>-999</td>\n",
              "      <td>-999</td>\n",
              "      <td>-999</td>\n",
              "      <td>69.282</td>\n",
              "      <td>0.0186361</td>\n",
              "      <td>s</td>\n",
              "      <td>s</td>\n",
              "      <td>s</td>\n",
              "      <td>s</td>\n",
              "      <td>s</td>\n",
              "      <td>s</td>\n",
              "    </tr>\n",
              "    <tr>\n",
              "      <th>4</th>\n",
              "      <td>65.301</td>\n",
              "      <td>49.675</td>\n",
              "      <td>49.392</td>\n",
              "      <td>3.436</td>\n",
              "      <td>-999</td>\n",
              "      <td>-999</td>\n",
              "      <td>-999</td>\n",
              "      <td>2.346</td>\n",
              "      <td>3.436</td>\n",
              "      <td>54.019</td>\n",
              "      <td>1.517</td>\n",
              "      <td>-1.402</td>\n",
              "      <td>-999</td>\n",
              "      <td>21.461</td>\n",
              "      <td>1.606</td>\n",
              "      <td>0.876</td>\n",
              "      <td>32.558</td>\n",
              "      <td>1.962</td>\n",
              "      <td>-3.088</td>\n",
              "      <td>22.941</td>\n",
              "      <td>-0.808</td>\n",
              "      <td>133.638</td>\n",
              "      <td>0</td>\n",
              "      <td>-999</td>\n",
              "      <td>-999</td>\n",
              "      <td>-999</td>\n",
              "      <td>-999</td>\n",
              "      <td>-999</td>\n",
              "      <td>-999</td>\n",
              "      <td>0</td>\n",
              "      <td>4.5865</td>\n",
              "      <td>b</td>\n",
              "      <td>b</td>\n",
              "      <td>b</td>\n",
              "      <td>b</td>\n",
              "      <td>b</td>\n",
              "      <td>b</td>\n",
              "    </tr>\n",
              "  </tbody>\n",
              "</table>\n",
              "</div>"
            ],
            "text/plain": [
              "  DER_mass_MMC DER_mass_transverse_met_lep  ... LDA_pred SVM_pred\n",
              "0      109.146                       8.307  ...        s        s\n",
              "1      105.492                       25.67  ...        s        s\n",
              "2       127.42                      41.426  ...        s        s\n",
              "3      129.726                       10.64  ...        s        s\n",
              "4       65.301                      49.675  ...        b        b\n",
              "\n",
              "[5 rows x 37 columns]"
            ]
          },
          "metadata": {
            "tags": []
          },
          "execution_count": 34
        }
      ]
    },
    {
      "cell_type": "code",
      "metadata": {
        "id": "eTKB6WnrpCyx"
      },
      "source": [
        "dfTrain.to_csv('train_higgs.csv')\n",
        "dfTest.to_csv('test_higgs.csv')\n",
        "dfResultsSummary.to_csv('summary_higgs.csv')\n",
        "dfPredictions.to_csv('predictions_higgs.csv')"
      ],
      "execution_count": null,
      "outputs": []
    },
    {
      "cell_type": "code",
      "metadata": {
        "id": "tqaR36DLpCy0",
        "outputId": "25f970c0-31ec-49db-cb52-b07abe3f2a88",
        "colab": {
          "base_uri": "https://localhost:8080/",
          "height": 235
        }
      },
      "source": [
        "dfResultsSummary"
      ],
      "execution_count": null,
      "outputs": [
        {
          "output_type": "execute_result",
          "data": {
            "text/html": [
              "<div>\n",
              "<style scoped>\n",
              "    .dataframe tbody tr th:only-of-type {\n",
              "        vertical-align: middle;\n",
              "    }\n",
              "\n",
              "    .dataframe tbody tr th {\n",
              "        vertical-align: top;\n",
              "    }\n",
              "\n",
              "    .dataframe thead th {\n",
              "        text-align: right;\n",
              "    }\n",
              "</style>\n",
              "<table border=\"1\" class=\"dataframe\">\n",
              "  <thead>\n",
              "    <tr style=\"text-align: right;\">\n",
              "      <th></th>\n",
              "      <th>Model</th>\n",
              "      <th>acc_train</th>\n",
              "      <th>acc_test</th>\n",
              "    </tr>\n",
              "  </thead>\n",
              "  <tbody>\n",
              "    <tr>\n",
              "      <th>0</th>\n",
              "      <td>Logistic</td>\n",
              "      <td>0.933600</td>\n",
              "      <td>0.9372</td>\n",
              "    </tr>\n",
              "    <tr>\n",
              "      <th>1</th>\n",
              "      <td>DecisionTress</td>\n",
              "      <td>1.000000</td>\n",
              "      <td>1.0000</td>\n",
              "    </tr>\n",
              "    <tr>\n",
              "      <th>2</th>\n",
              "      <td>KNN</td>\n",
              "      <td>0.903733</td>\n",
              "      <td>0.8604</td>\n",
              "    </tr>\n",
              "    <tr>\n",
              "      <th>3</th>\n",
              "      <td>LDA</td>\n",
              "      <td>0.896667</td>\n",
              "      <td>0.8872</td>\n",
              "    </tr>\n",
              "    <tr>\n",
              "      <th>4</th>\n",
              "      <td>GuassianNB</td>\n",
              "      <td>0.946933</td>\n",
              "      <td>0.9548</td>\n",
              "    </tr>\n",
              "    <tr>\n",
              "      <th>5</th>\n",
              "      <td>SVM</td>\n",
              "      <td>0.919067</td>\n",
              "      <td>0.9188</td>\n",
              "    </tr>\n",
              "  </tbody>\n",
              "</table>\n",
              "</div>"
            ],
            "text/plain": [
              "           Model  acc_train  acc_test\n",
              "0       Logistic   0.933600    0.9372\n",
              "1  DecisionTress   1.000000    1.0000\n",
              "2            KNN   0.903733    0.8604\n",
              "3            LDA   0.896667    0.8872\n",
              "4     GuassianNB   0.946933    0.9548\n",
              "5            SVM   0.919067    0.9188"
            ]
          },
          "metadata": {
            "tags": []
          },
          "execution_count": 36
        }
      ]
    },
    {
      "cell_type": "markdown",
      "metadata": {
        "id": "717S7K_UpCy4"
      },
      "source": [
        "# KNN - Analysis"
      ]
    },
    {
      "cell_type": "code",
      "metadata": {
        "id": "PPhMGrJbpCy4",
        "outputId": "48a59216-69d3-4821-f1f9-f1343a80cec1",
        "colab": {
          "base_uri": "https://localhost:8080/",
          "height": 34
        }
      },
      "source": [
        "import sklearn.metrics as metrics\n",
        "\n",
        "k_range = range(1, 20)\n",
        "\n",
        "scores = []\n",
        "\n",
        "for k in k_range:\n",
        "    knn = KNeighborsClassifier(n_neighbors=k)\n",
        "    knn.fit(X_train, y_train)\n",
        "    y_pred = knn.predict(X_test)\n",
        "    scores.append(metrics.accuracy_score(y_test, y_pred))\n",
        "\n",
        "print(scores)"
      ],
      "execution_count": null,
      "outputs": [
        {
          "output_type": "stream",
          "text": [
            "[0.8464, 0.8304, 0.8516, 0.8456, 0.8604, 0.8564, 0.8604, 0.862, 0.858, 0.856, 0.8528, 0.854, 0.8576, 0.8644, 0.8616, 0.8636, 0.8588, 0.8592, 0.8572]\n"
          ],
          "name": "stdout"
        }
      ]
    },
    {
      "cell_type": "code",
      "metadata": {
        "id": "KT6mEyeZpCy8",
        "outputId": "14d898f8-f8fa-4a33-f04e-42dcbf92012a",
        "colab": {
          "base_uri": "https://localhost:8080/",
          "height": 312
        }
      },
      "source": [
        "plt.plot(range(1,20),scores)\n",
        "plt.xlabel('Number of K')\n",
        "plt.ylabel('Scores')\n",
        "plt.title('Number of Clusters Vs Prediction Scores')"
      ],
      "execution_count": null,
      "outputs": [
        {
          "output_type": "execute_result",
          "data": {
            "text/plain": [
              "Text(0.5, 1.0, 'Number of Clusters Vs Prediction Scores')"
            ]
          },
          "metadata": {
            "tags": []
          },
          "execution_count": 38
        },
        {
          "output_type": "display_data",
          "data": {
            "image/png": "[encoded data removed]",
            "text/plain": [
              "<Figure size 432x288 with 1 Axes>"
            ]
          },
          "metadata": {
            "tags": [],
            "needs_background": "light"
          }
        }
      ]
    },
    {
      "cell_type": "markdown",
      "metadata": {
        "id": "a1z0dVoMtxew"
      },
      "source": [
        "# Logistic regression "
      ]
    },
    {
      "cell_type": "code",
      "metadata": {
        "id": "7KebER5RpCzD"
      },
      "source": [
        "from sklearn.model_selection import learning_curve\n",
        "from sklearn.preprocessing import OneHotEncoder\n",
        "from sklearn.preprocessing import LabelEncoder"
      ],
      "execution_count": null,
      "outputs": []
    },
    {
      "cell_type": "code",
      "metadata": {
        "id": "GEe7sQGgpCzK"
      },
      "source": [
        "label_encoder = LabelEncoder()\n",
        "y_train_encoded = label_encoder.fit_transform(y_train)\n",
        "y_test_encoded = label_encoder.transform(y_test)\n"
      ],
      "execution_count": null,
      "outputs": []
    },
    {
      "cell_type": "code",
      "metadata": {
        "id": "P3Ghde19pCzQ"
      },
      "source": [
        "train_sz, train_errs, cv_errs = learning_curve(estimator=logreg, X=X_train, y=y_train_encoded, cv=4,\n",
        "                                              train_sizes=np.linspace(0.05, 1, 20),\n",
        "                                              scoring=\"neg_mean_squared_error\")  \n",
        "\n",
        "# For each training subset, compute average error over the 3-fold cross val\n",
        "tr_err = np.mean(train_errs, axis=1)\n",
        "cv_err = np.mean(cv_errs, axis=1)"
      ],
      "execution_count": null,
      "outputs": []
    },
    {
      "cell_type": "code",
      "metadata": {
        "id": "c_VB-fXgpCzS",
        "outputId": "fbfd91c1-956c-4b8c-8397-a85b82fcb304",
        "colab": {
          "base_uri": "https://localhost:8080/",
          "height": 282
        }
      },
      "source": [
        "# Plot the errors to make a learning curve!\n",
        "fig, ax = plt.subplots()\n",
        "ax.plot(train_sz, tr_err, linestyle=\"--\", color=\"r\", label=\"training error\")\n",
        "ax.plot(train_sz, cv_err, linestyle=\"-\", color=\"b\", label=\"cv error\")\n",
        "\n",
        "#snp.labs(\"Training Set Size\", \"Score (4-Fold CV avg)\", \"LC with High Bias\")\n",
        "ax.legend(loc=\"lower right\")"
      ],
      "execution_count": null,
      "outputs": [
        {
          "output_type": "execute_result",
          "data": {
            "text/plain": [
              "<matplotlib.legend.Legend at 0x7f9eac61a588>"
            ]
          },
          "metadata": {
            "tags": []
          },
          "execution_count": 42
        },
        {
          "output_type": "display_data",
          "data": {
            "image/png": "[encoded data removed]",
            "text/plain": [
              "<Figure size 432x288 with 1 Axes>"
            ]
          },
          "metadata": {
            "tags": [],
            "needs_background": "light"
          }
        }
      ]
    },
    {
      "cell_type": "markdown",
      "metadata": {
        "id": "NqmpxzsppCzV"
      },
      "source": [
        "# Random Forest Classifier"
      ]
    },
    {
      "cell_type": "code",
      "metadata": {
        "id": "VAj2bd14pCzV"
      },
      "source": [
        "from sklearn.ensemble import RandomForestClassifier"
      ],
      "execution_count": null,
      "outputs": []
    },
    {
      "cell_type": "code",
      "metadata": {
        "id": "-4yLskFOpCzY",
        "outputId": "4d431c1a-7fd1-4751-a4a9-b9c737607f2a",
        "colab": {
          "base_uri": "https://localhost:8080/",
          "height": 297
        }
      },
      "source": [
        "train_sizes, train_scores, test_scores = learning_curve(RandomForestClassifier(), \n",
        "                                                        X_train, \n",
        "                                                        y_train_encoded,\n",
        "                                                        # Number of folds in cross-validation\n",
        "                                                        cv=10,\n",
        "                                                        # Evaluation metric\n",
        "                                                        scoring='accuracy',\n",
        "                                                        # Use all computer cores\n",
        "                                                        n_jobs=-1, \n",
        "                                                        # 50 different sizes of the training set\n",
        "                                                        train_sizes=np.linspace(0.01, 1.0, 50))\n",
        "\n",
        "# Create means and standard deviations of training set scores\n",
        "train_mean = np.mean(train_scores, axis=1)\n",
        "train_std = np.std(train_scores, axis=1)\n",
        "\n",
        "# Create means and standard deviations of test set scores\n",
        "test_mean = np.mean(test_scores, axis=1)\n",
        "test_std = np.std(test_scores, axis=1)\n",
        "\n",
        "# Draw lines\n",
        "plt.plot(train_sizes, train_mean, '--', color=\"#111111\",  label=\"Training score\")\n",
        "plt.plot(train_sizes, test_mean, color=\"#111111\", label=\"Cross-validation score\")\n",
        "\n",
        "# Draw bands\n",
        "plt.fill_between(train_sizes, train_mean - train_std, train_mean + train_std)\n",
        "plt.fill_between(train_sizes, test_mean - test_std, test_mean + test_std)\n",
        "\n",
        "# Create plot\n",
        "plt.title(\"Learning Curve\")\n",
        "plt.xlabel(\"Training Set Size\"), plt.ylabel(\"Accuracy Score\"), plt.legend(loc=\"best\")\n",
        "plt.tight_layout()\n",
        "plt.show()"
      ],
      "execution_count": null,
      "outputs": [
        {
          "output_type": "display_data",
          "data": {
            "image/png": "[encoded data removed]",
            "text/plain": [
              "<Figure size 432x288 with 1 Axes>"
            ]
          },
          "metadata": {
            "tags": [],
            "needs_background": "light"
          }
        }
      ]
    }
  ]
}