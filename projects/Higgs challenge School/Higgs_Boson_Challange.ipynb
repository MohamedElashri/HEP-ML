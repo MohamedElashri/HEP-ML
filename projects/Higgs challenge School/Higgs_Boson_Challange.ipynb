{
  "nbformat": 4,
  "nbformat_minor": 0,
  "metadata": {
    "kernelspec": {
      "display_name": "Python 2",
      "language": "python",
      "name": "python2"
    },
    "language_info": {
      "codemirror_mode": {
        "name": "ipython",
        "version": 2
      },
      "file_extension": ".py",
      "mimetype": "text/x-python",
      "name": "python",
      "nbconvert_exporter": "python",
      "pygments_lexer": "ipython2",
      "version": "2.7.11"
    },
    "colab": {
      "name": "Higgs Boson Challange.ipynb",
      "provenance": [],
      "include_colab_link": true
    }
  },
  "cells": [
    {
      "cell_type": "markdown",
      "metadata": {
        "id": "view-in-github",
        "colab_type": "text"
      },
      "source": [
        "<a href=\"https://colab.research.google.com/github/MohamedElashri/HEP-ML/blob/master/Higgs_Boson_Challange.ipynb\" target=\"_parent\"><img src=\"https://colab.research.google.com/assets/colab-badge.svg\" alt=\"Open In Colab\"/></a>"
      ]
    },
    {
      "cell_type": "markdown",
      "metadata": {
        "id": "C2qcAS74IvTb",
        "colab_type": "text"
      },
      "source": [
        "## About\n",
        "\n",
        "In this notebook is a trivial solution for the [kaggle challenge on higgs.](https://inclass.kaggle.com/c/mlhep-2016-higgs-detection)"
      ]
    },
    {
      "cell_type": "code",
      "metadata": {
        "id": "qN87xnmHIvTc",
        "colab_type": "code",
        "colab": {}
      },
      "source": [
        "%matplotlib inline\n",
        "import warnings\n",
        "warnings.filterwarnings('ignore')"
      ],
      "execution_count": 38,
      "outputs": []
    },
    {
      "cell_type": "code",
      "metadata": {
        "id": "LfDAaQkAIvTq",
        "colab_type": "code",
        "colab": {}
      },
      "source": [
        "import matplotlib.pyplot as plt\n",
        "\n",
        "import pandas\n",
        "import numpy\n",
        "\n",
        "from sklearn.model_selection import train_test_split\n",
        "from sklearn.metrics import roc_auc_score"
      ],
      "execution_count": 3,
      "outputs": []
    },
    {
      "cell_type": "markdown",
      "metadata": {
        "id": "rHvIbAv0IvTx",
        "colab_type": "text"
      },
      "source": [
        "### Download data"
      ]
    },
    {
      "cell_type": "code",
      "metadata": {
        "id": "WXTqGslsIvTy",
        "colab_type": "code",
        "colab": {
          "base_uri": "https://localhost:8080/",
          "height": 308
        },
        "outputId": "65618ddc-84ef-47c9-c6d6-acc4b11b915e"
      },
      "source": [
        "! wget -O public_train_10000.root -nc --no-check-certificate https://github.com/yandexdataschool/mlhep2016/raw/master/public_train_100000.root"
      ],
      "execution_count": 33,
      "outputs": [
        {
          "output_type": "stream",
          "text": [
            "--2020-08-17 06:48:30--  https://github.com/yandexdataschool/mlhep2016/raw/master/public_train_100000.root\n",
            "Resolving github.com (github.com)... 140.82.112.3\n",
            "Connecting to github.com (github.com)|140.82.112.3|:443... connected.\n",
            "HTTP request sent, awaiting response... 302 Found\n",
            "Location: https://raw.githubusercontent.com/yandexdataschool/mlhep2016/master/public_train_100000.root [following]\n",
            "--2020-08-17 06:48:30--  https://raw.githubusercontent.com/yandexdataschool/mlhep2016/master/public_train_100000.root\n",
            "Resolving raw.githubusercontent.com (raw.githubusercontent.com)... 151.101.0.133, 151.101.64.133, 151.101.128.133, ...\n",
            "Connecting to raw.githubusercontent.com (raw.githubusercontent.com)|151.101.0.133|:443... connected.\n",
            "HTTP request sent, awaiting response... 200 OK\n",
            "Length: 9245432 (8.8M) [application/octet-stream]\n",
            "Saving to: ‘public_train_10000.root’\n",
            "\n",
            "public_train_10000. 100%[===================>]   8.82M  25.3MB/s    in 0.3s    \n",
            "\n",
            "2020-08-17 06:48:31 (25.3 MB/s) - ‘public_train_10000.root’ saved [9245432/9245432]\n",
            "\n"
          ],
          "name": "stdout"
        }
      ]
    },
    {
      "cell_type": "code",
      "metadata": {
        "id": "rXdVbi9AIvT7",
        "colab_type": "code",
        "colab": {}
      },
      "source": [
        "# you can download training sample with 100000 available events\n",
        "# uncomment the below row\n",
        "# !cd datasets; wget -O public_train_100000.root -nc --no-check-certificate https://2016.mlhep.yandex.net/data/higgs/public_train_100000.root"
      ],
      "execution_count": null,
      "outputs": []
    },
    {
      "cell_type": "code",
      "metadata": {
        "id": "BrgDHuVMIvUA",
        "colab_type": "code",
        "colab": {
          "base_uri": "https://localhost:8080/",
          "height": 308
        },
        "outputId": "b4a0d902-93b4-4488-ec4b-332baa5721bb"
      },
      "source": [
        "! wget -O public_test.root -nc --no-check-certificate https://github.com/yandexdataschool/mlhep2016/raw/master/public_train_10000.root"
      ],
      "execution_count": 7,
      "outputs": [
        {
          "output_type": "stream",
          "text": [
            "--2020-08-17 06:38:17--  https://github.com/yandexdataschool/mlhep2016/raw/master/public_train_10000.root\n",
            "Resolving github.com (github.com)... 140.82.112.3\n",
            "Connecting to github.com (github.com)|140.82.112.3|:443... connected.\n",
            "HTTP request sent, awaiting response... 302 Found\n",
            "Location: https://raw.githubusercontent.com/yandexdataschool/mlhep2016/master/public_train_10000.root [following]\n",
            "--2020-08-17 06:38:18--  https://raw.githubusercontent.com/yandexdataschool/mlhep2016/master/public_train_10000.root\n",
            "Resolving raw.githubusercontent.com (raw.githubusercontent.com)... 151.101.0.133, 151.101.64.133, 151.101.128.133, ...\n",
            "Connecting to raw.githubusercontent.com (raw.githubusercontent.com)|151.101.0.133|:443... connected.\n",
            "HTTP request sent, awaiting response... 200 OK\n",
            "Length: 932820 (911K) [application/octet-stream]\n",
            "Saving to: ‘public_test.root’\n",
            "\n",
            "public_test.root    100%[===================>] 910.96K  --.-KB/s    in 0.09s   \n",
            "\n",
            "2020-08-17 06:38:18 (9.73 MB/s) - ‘public_test.root’ saved [932820/932820]\n",
            "\n"
          ],
          "name": "stdout"
        }
      ]
    },
    {
      "cell_type": "code",
      "metadata": {
        "id": "NaIVmpw0JBha",
        "colab_type": "code",
        "colab": {
          "base_uri": "https://localhost:8080/",
          "height": 825
        },
        "outputId": "5c7e8302-5ca8-4271-c5ee-97444c291ff6"
      },
      "source": [
        "# This code is for installing ROOT on Google Colab to be able to install root_numpy package later\n",
        "\n",
        "!mkdir -p APPS\n",
        "!pwd\n",
        "!cd APPS && wget https://root.cern.ch/download/root_v6.13.08.Linux-ubuntu18-x86_64-gcc7.3.tar.gz \n",
        "!cd APPS && tar -xf root_v6.13.08.Linux-ubuntu18-x86_64-gcc7.3.tar.gz\n",
        "\n",
        "import sys\n",
        "sys.path.append(\"/content/APPS/root/lib\")\n",
        "import ctypes\n",
        "ctypes.cdll.LoadLibrary('/content/APPS/root/lib/libMultiProc.so')\n",
        "ctypes.cdll.LoadLibrary('/content/APPS/root/lib/libCore.so')\n",
        "ctypes.cdll.LoadLibrary('/content/APPS/root/lib/libThread.so')\n",
        "ctypes.cdll.LoadLibrary('/content/APPS/root/lib/libImt.so')\n",
        "ctypes.cdll.LoadLibrary('/content/APPS/root/lib/libRIO.so')\n",
        "ctypes.cdll.LoadLibrary('/content/APPS/root/lib/libNet.so')\n",
        "ctypes.cdll.LoadLibrary('/content/APPS/root/lib/libGraf3d.so')\n",
        "ctypes.cdll.LoadLibrary('/content/APPS/root/lib/libTreePlayer.so')\n",
        "ctypes.cdll.LoadLibrary('/content/APPS/root/lib/libMultiProc.so')\n",
        "ctypes.cdll.LoadLibrary('/content/APPS/root/lib/libTree.so')\n",
        "ctypes.cdll.LoadLibrary('/content/APPS/root/lib/libMathCore.so')\n",
        "ctypes.cdll.LoadLibrary('/content/APPS/root/lib/libMatrix.so')\n",
        "ctypes.cdll.LoadLibrary('/content/APPS/root/lib/libHist.so')\n",
        "ctypes.cdll.LoadLibrary('/content/APPS/root/lib/libGraf.so')\n",
        "\n",
        "import ROOT\n",
        "\n",
        "h = ROOT.TH1F(\"gauss\",\"Example histogram\",100,-4,4)\n",
        "h.FillRandom(\"gaus\")\n",
        "c = ROOT.TCanvas(\"myCanvasName\",\"The Canvas Title\",800,600)\n",
        "h.Draw()\n",
        "c.Draw()"
      ],
      "execution_count": 8,
      "outputs": [
        {
          "output_type": "stream",
          "text": [
            "/content\n",
            "--2020-08-17 06:38:46--  https://root.cern.ch/download/root_v6.13.08.Linux-ubuntu18-x86_64-gcc7.3.tar.gz\n",
            "Resolving root.cern.ch (root.cern.ch)... 137.138.13.143, 2001:1458:201:45::100:b\n",
            "Connecting to root.cern.ch (root.cern.ch)|137.138.13.143|:443... connected.\n",
            "HTTP request sent, awaiting response... 200 OK\n",
            "Length: 137415272 (131M) [application/x-gzip]\n",
            "Saving to: ‘root_v6.13.08.Linux-ubuntu18-x86_64-gcc7.3.tar.gz’\n",
            "\n",
            "root_v6.13.08.Linux 100%[===================>] 131.05M  25.9MB/s    in 5.7s    \n",
            "\n",
            "2020-08-17 06:38:53 (23.0 MB/s) - ‘root_v6.13.08.Linux-ubuntu18-x86_64-gcc7.3.tar.gz’ saved [137415272/137415272]\n",
            "\n",
            "Welcome to JupyROOT 6.13/08\n"
          ],
          "name": "stdout"
        },
        {
          "output_type": "display_data",
          "data": {
            "image/png": "[encoded data removed]",
            "text/plain": [
              "<IPython.core.display.Image object>"
            ]
          },
          "metadata": {
            "tags": []
          }
        }
      ]
    },
    {
      "cell_type": "markdown",
      "metadata": {
        "id": "7qK-2eS6IvUF",
        "colab_type": "text"
      },
      "source": [
        "### Read the smallest part of training file and test file"
      ]
    },
    {
      "cell_type": "code",
      "metadata": {
        "id": "mqhaYbG1IvUI",
        "colab_type": "code",
        "colab": {}
      },
      "source": [
        "import root_numpy\n",
        "data = pandas.DataFrame(root_numpy.root2array('public_train_10000.root'))\n",
        "test = pandas.DataFrame(root_numpy.root2array('public_test.root'))"
      ],
      "execution_count": 34,
      "outputs": []
    },
    {
      "cell_type": "code",
      "metadata": {
        "id": "TNUoNHCoIvUM",
        "colab_type": "code",
        "colab": {
          "base_uri": "https://localhost:8080/",
          "height": 255
        },
        "outputId": "f75290ee-2b12-4142-8569-86c727894681"
      },
      "source": [
        "# lets explore our data features, start by first data points \n",
        "data.head()"
      ],
      "execution_count": 58,
      "outputs": [
        {
          "output_type": "execute_result",
          "data": {
            "text/plain": [
              "   event_id  target  lepton_pt  lepton_eta  lepton_phi     mem_pt   mem_phi  \\\n",
              "0   1000001     1.0  34.750568    0.787025    1.898891  20.862434 -2.622998   \n",
              "1   1000002     1.0  54.250927   -1.057915    2.310697  51.167873  2.545749   \n",
              "2   1000003     1.0  47.746025   -0.783184    2.660325  68.165527 -1.700790   \n",
              "3   1000004     0.0  45.950066    1.613817    0.964722  39.302082 -0.075989   \n",
              "4   1000005     0.0  44.409187   -0.228907   -1.837974  49.886654  0.156533   \n",
              "\n",
              "     jet1_pt  jet1_eta  jet1_phi  ...  jet4_eta  jet4_phi  jet4_btag  \\\n",
              "0  44.814148 -0.168171  2.631595  ...  0.877472 -0.256736   0.000000   \n",
              "1  31.039040 -2.220276 -0.737298  ... -1.139118 -1.300325   2.000016   \n",
              "2  36.945312 -1.151738 -0.626912  ... -0.798898 -1.605550   2.000016   \n",
              "3  84.307426  0.465748  2.287783  ... -0.586711 -2.256246   2.000023   \n",
              "4  32.852112  2.561646  2.641460  ...  0.293522  1.391425   0.000000   \n",
              "\n",
              "         m_jj       m_jjj       m_lv       m_jlv        m_bb       m_wbb  \\\n",
              "0   81.724449  189.583145  80.118317  170.086075   91.128204  298.468781   \n",
              "1   65.837746  201.096756  83.321556  208.039688   67.118484  287.363983   \n",
              "2   69.316925  156.334732  95.307602  149.089005  130.389206  237.879318   \n",
              "3   71.032066  182.341537  81.941925  164.411148   93.709511  237.900055   \n",
              "4  122.030174  288.594086  84.386459  150.299744   69.818291  435.990356   \n",
              "\n",
              "       m_wwbb  \n",
              "0  374.685760  \n",
              "1  527.247559  \n",
              "2  336.058838  \n",
              "3  392.807831  \n",
              "4  533.977905  \n",
              "\n",
              "[5 rows x 30 columns]"
            ],
            "text/html": [
              "<div>\n",
              "<style scoped>\n",
              "    .dataframe tbody tr th:only-of-type {\n",
              "        vertical-align: middle;\n",
              "    }\n",
              "\n",
              "    .dataframe tbody tr th {\n",
              "        vertical-align: top;\n",
              "    }\n",
              "\n",
              "    .dataframe thead th {\n",
              "        text-align: right;\n",
              "    }\n",
              "</style>\n",
              "<table border=\"1\" class=\"dataframe\">\n",
              "  <thead>\n",
              "    <tr style=\"text-align: right;\">\n",
              "      <th></th>\n",
              "      <th>event_id</th>\n",
              "      <th>target</th>\n",
              "      <th>lepton_pt</th>\n",
              "      <th>lepton_eta</th>\n",
              "      <th>lepton_phi</th>\n",
              "      <th>mem_pt</th>\n",
              "      <th>mem_phi</th>\n",
              "      <th>jet1_pt</th>\n",
              "      <th>jet1_eta</th>\n",
              "      <th>jet1_phi</th>\n",
              "      <th>...</th>\n",
              "      <th>jet4_eta</th>\n",
              "      <th>jet4_phi</th>\n",
              "      <th>jet4_btag</th>\n",
              "      <th>m_jj</th>\n",
              "      <th>m_jjj</th>\n",
              "      <th>m_lv</th>\n",
              "      <th>m_jlv</th>\n",
              "      <th>m_bb</th>\n",
              "      <th>m_wbb</th>\n",
              "      <th>m_wwbb</th>\n",
              "    </tr>\n",
              "  </thead>\n",
              "  <tbody>\n",
              "    <tr>\n",
              "      <th>0</th>\n",
              "      <td>1000001</td>\n",
              "      <td>1.0</td>\n",
              "      <td>34.750568</td>\n",
              "      <td>0.787025</td>\n",
              "      <td>1.898891</td>\n",
              "      <td>20.862434</td>\n",
              "      <td>-2.622998</td>\n",
              "      <td>44.814148</td>\n",
              "      <td>-0.168171</td>\n",
              "      <td>2.631595</td>\n",
              "      <td>...</td>\n",
              "      <td>0.877472</td>\n",
              "      <td>-0.256736</td>\n",
              "      <td>0.000000</td>\n",
              "      <td>81.724449</td>\n",
              "      <td>189.583145</td>\n",
              "      <td>80.118317</td>\n",
              "      <td>170.086075</td>\n",
              "      <td>91.128204</td>\n",
              "      <td>298.468781</td>\n",
              "      <td>374.685760</td>\n",
              "    </tr>\n",
              "    <tr>\n",
              "      <th>1</th>\n",
              "      <td>1000002</td>\n",
              "      <td>1.0</td>\n",
              "      <td>54.250927</td>\n",
              "      <td>-1.057915</td>\n",
              "      <td>2.310697</td>\n",
              "      <td>51.167873</td>\n",
              "      <td>2.545749</td>\n",
              "      <td>31.039040</td>\n",
              "      <td>-2.220276</td>\n",
              "      <td>-0.737298</td>\n",
              "      <td>...</td>\n",
              "      <td>-1.139118</td>\n",
              "      <td>-1.300325</td>\n",
              "      <td>2.000016</td>\n",
              "      <td>65.837746</td>\n",
              "      <td>201.096756</td>\n",
              "      <td>83.321556</td>\n",
              "      <td>208.039688</td>\n",
              "      <td>67.118484</td>\n",
              "      <td>287.363983</td>\n",
              "      <td>527.247559</td>\n",
              "    </tr>\n",
              "    <tr>\n",
              "      <th>2</th>\n",
              "      <td>1000003</td>\n",
              "      <td>1.0</td>\n",
              "      <td>47.746025</td>\n",
              "      <td>-0.783184</td>\n",
              "      <td>2.660325</td>\n",
              "      <td>68.165527</td>\n",
              "      <td>-1.700790</td>\n",
              "      <td>36.945312</td>\n",
              "      <td>-1.151738</td>\n",
              "      <td>-0.626912</td>\n",
              "      <td>...</td>\n",
              "      <td>-0.798898</td>\n",
              "      <td>-1.605550</td>\n",
              "      <td>2.000016</td>\n",
              "      <td>69.316925</td>\n",
              "      <td>156.334732</td>\n",
              "      <td>95.307602</td>\n",
              "      <td>149.089005</td>\n",
              "      <td>130.389206</td>\n",
              "      <td>237.879318</td>\n",
              "      <td>336.058838</td>\n",
              "    </tr>\n",
              "    <tr>\n",
              "      <th>3</th>\n",
              "      <td>1000004</td>\n",
              "      <td>0.0</td>\n",
              "      <td>45.950066</td>\n",
              "      <td>1.613817</td>\n",
              "      <td>0.964722</td>\n",
              "      <td>39.302082</td>\n",
              "      <td>-0.075989</td>\n",
              "      <td>84.307426</td>\n",
              "      <td>0.465748</td>\n",
              "      <td>2.287783</td>\n",
              "      <td>...</td>\n",
              "      <td>-0.586711</td>\n",
              "      <td>-2.256246</td>\n",
              "      <td>2.000023</td>\n",
              "      <td>71.032066</td>\n",
              "      <td>182.341537</td>\n",
              "      <td>81.941925</td>\n",
              "      <td>164.411148</td>\n",
              "      <td>93.709511</td>\n",
              "      <td>237.900055</td>\n",
              "      <td>392.807831</td>\n",
              "    </tr>\n",
              "    <tr>\n",
              "      <th>4</th>\n",
              "      <td>1000005</td>\n",
              "      <td>0.0</td>\n",
              "      <td>44.409187</td>\n",
              "      <td>-0.228907</td>\n",
              "      <td>-1.837974</td>\n",
              "      <td>49.886654</td>\n",
              "      <td>0.156533</td>\n",
              "      <td>32.852112</td>\n",
              "      <td>2.561646</td>\n",
              "      <td>2.641460</td>\n",
              "      <td>...</td>\n",
              "      <td>0.293522</td>\n",
              "      <td>1.391425</td>\n",
              "      <td>0.000000</td>\n",
              "      <td>122.030174</td>\n",
              "      <td>288.594086</td>\n",
              "      <td>84.386459</td>\n",
              "      <td>150.299744</td>\n",
              "      <td>69.818291</td>\n",
              "      <td>435.990356</td>\n",
              "      <td>533.977905</td>\n",
              "    </tr>\n",
              "  </tbody>\n",
              "</table>\n",
              "<p>5 rows × 30 columns</p>\n",
              "</div>"
            ]
          },
          "metadata": {
            "tags": []
          },
          "execution_count": 58
        }
      ]
    },
    {
      "cell_type": "code",
      "metadata": {
        "id": "hHw5NME-IvUQ",
        "colab_type": "code",
        "colab": {
          "base_uri": "https://localhost:8080/",
          "height": 255
        },
        "outputId": "85095a5e-8d47-4c6f-8ab0-09052faccdc1"
      },
      "source": [
        "# the last data points\n",
        "\n",
        "test.head()"
      ],
      "execution_count": 59,
      "outputs": [
        {
          "output_type": "execute_result",
          "data": {
            "text/plain": [
              "   event_id  target  lepton_pt  lepton_eta  lepton_phi     mem_pt   mem_phi  \\\n",
              "0   1000001     1.0  34.750568    0.787025    1.898891  20.862434 -2.622998   \n",
              "1   1000002     1.0  54.250927   -1.057915    2.310697  51.167873  2.545749   \n",
              "2   1000003     1.0  47.746025   -0.783184    2.660325  68.165527 -1.700790   \n",
              "3   1000004     0.0  45.950066    1.613817    0.964722  39.302082 -0.075989   \n",
              "4   1000005     0.0  44.409187   -0.228907   -1.837974  49.886654  0.156533   \n",
              "\n",
              "     jet1_pt  jet1_eta  jet1_phi  ...  jet4_eta  jet4_phi  jet4_btag  \\\n",
              "0  44.814148 -0.168171  2.631595  ...  0.877472 -0.256736   0.000000   \n",
              "1  31.039040 -2.220276 -0.737298  ... -1.139118 -1.300325   2.000016   \n",
              "2  36.945312 -1.151738 -0.626912  ... -0.798898 -1.605550   2.000016   \n",
              "3  84.307426  0.465748  2.287783  ... -0.586711 -2.256246   2.000023   \n",
              "4  32.852112  2.561646  2.641460  ...  0.293522  1.391425   0.000000   \n",
              "\n",
              "         m_jj       m_jjj       m_lv       m_jlv        m_bb       m_wbb  \\\n",
              "0   81.724449  189.583145  80.118317  170.086075   91.128204  298.468781   \n",
              "1   65.837746  201.096756  83.321556  208.039688   67.118484  287.363983   \n",
              "2   69.316925  156.334732  95.307602  149.089005  130.389206  237.879318   \n",
              "3   71.032066  182.341537  81.941925  164.411148   93.709511  237.900055   \n",
              "4  122.030174  288.594086  84.386459  150.299744   69.818291  435.990356   \n",
              "\n",
              "       m_wwbb  \n",
              "0  374.685760  \n",
              "1  527.247559  \n",
              "2  336.058838  \n",
              "3  392.807831  \n",
              "4  533.977905  \n",
              "\n",
              "[5 rows x 30 columns]"
            ],
            "text/html": [
              "<div>\n",
              "<style scoped>\n",
              "    .dataframe tbody tr th:only-of-type {\n",
              "        vertical-align: middle;\n",
              "    }\n",
              "\n",
              "    .dataframe tbody tr th {\n",
              "        vertical-align: top;\n",
              "    }\n",
              "\n",
              "    .dataframe thead th {\n",
              "        text-align: right;\n",
              "    }\n",
              "</style>\n",
              "<table border=\"1\" class=\"dataframe\">\n",
              "  <thead>\n",
              "    <tr style=\"text-align: right;\">\n",
              "      <th></th>\n",
              "      <th>event_id</th>\n",
              "      <th>target</th>\n",
              "      <th>lepton_pt</th>\n",
              "      <th>lepton_eta</th>\n",
              "      <th>lepton_phi</th>\n",
              "      <th>mem_pt</th>\n",
              "      <th>mem_phi</th>\n",
              "      <th>jet1_pt</th>\n",
              "      <th>jet1_eta</th>\n",
              "      <th>jet1_phi</th>\n",
              "      <th>...</th>\n",
              "      <th>jet4_eta</th>\n",
              "      <th>jet4_phi</th>\n",
              "      <th>jet4_btag</th>\n",
              "      <th>m_jj</th>\n",
              "      <th>m_jjj</th>\n",
              "      <th>m_lv</th>\n",
              "      <th>m_jlv</th>\n",
              "      <th>m_bb</th>\n",
              "      <th>m_wbb</th>\n",
              "      <th>m_wwbb</th>\n",
              "    </tr>\n",
              "  </thead>\n",
              "  <tbody>\n",
              "    <tr>\n",
              "      <th>0</th>\n",
              "      <td>1000001</td>\n",
              "      <td>1.0</td>\n",
              "      <td>34.750568</td>\n",
              "      <td>0.787025</td>\n",
              "      <td>1.898891</td>\n",
              "      <td>20.862434</td>\n",
              "      <td>-2.622998</td>\n",
              "      <td>44.814148</td>\n",
              "      <td>-0.168171</td>\n",
              "      <td>2.631595</td>\n",
              "      <td>...</td>\n",
              "      <td>0.877472</td>\n",
              "      <td>-0.256736</td>\n",
              "      <td>0.000000</td>\n",
              "      <td>81.724449</td>\n",
              "      <td>189.583145</td>\n",
              "      <td>80.118317</td>\n",
              "      <td>170.086075</td>\n",
              "      <td>91.128204</td>\n",
              "      <td>298.468781</td>\n",
              "      <td>374.685760</td>\n",
              "    </tr>\n",
              "    <tr>\n",
              "      <th>1</th>\n",
              "      <td>1000002</td>\n",
              "      <td>1.0</td>\n",
              "      <td>54.250927</td>\n",
              "      <td>-1.057915</td>\n",
              "      <td>2.310697</td>\n",
              "      <td>51.167873</td>\n",
              "      <td>2.545749</td>\n",
              "      <td>31.039040</td>\n",
              "      <td>-2.220276</td>\n",
              "      <td>-0.737298</td>\n",
              "      <td>...</td>\n",
              "      <td>-1.139118</td>\n",
              "      <td>-1.300325</td>\n",
              "      <td>2.000016</td>\n",
              "      <td>65.837746</td>\n",
              "      <td>201.096756</td>\n",
              "      <td>83.321556</td>\n",
              "      <td>208.039688</td>\n",
              "      <td>67.118484</td>\n",
              "      <td>287.363983</td>\n",
              "      <td>527.247559</td>\n",
              "    </tr>\n",
              "    <tr>\n",
              "      <th>2</th>\n",
              "      <td>1000003</td>\n",
              "      <td>1.0</td>\n",
              "      <td>47.746025</td>\n",
              "      <td>-0.783184</td>\n",
              "      <td>2.660325</td>\n",
              "      <td>68.165527</td>\n",
              "      <td>-1.700790</td>\n",
              "      <td>36.945312</td>\n",
              "      <td>-1.151738</td>\n",
              "      <td>-0.626912</td>\n",
              "      <td>...</td>\n",
              "      <td>-0.798898</td>\n",
              "      <td>-1.605550</td>\n",
              "      <td>2.000016</td>\n",
              "      <td>69.316925</td>\n",
              "      <td>156.334732</td>\n",
              "      <td>95.307602</td>\n",
              "      <td>149.089005</td>\n",
              "      <td>130.389206</td>\n",
              "      <td>237.879318</td>\n",
              "      <td>336.058838</td>\n",
              "    </tr>\n",
              "    <tr>\n",
              "      <th>3</th>\n",
              "      <td>1000004</td>\n",
              "      <td>0.0</td>\n",
              "      <td>45.950066</td>\n",
              "      <td>1.613817</td>\n",
              "      <td>0.964722</td>\n",
              "      <td>39.302082</td>\n",
              "      <td>-0.075989</td>\n",
              "      <td>84.307426</td>\n",
              "      <td>0.465748</td>\n",
              "      <td>2.287783</td>\n",
              "      <td>...</td>\n",
              "      <td>-0.586711</td>\n",
              "      <td>-2.256246</td>\n",
              "      <td>2.000023</td>\n",
              "      <td>71.032066</td>\n",
              "      <td>182.341537</td>\n",
              "      <td>81.941925</td>\n",
              "      <td>164.411148</td>\n",
              "      <td>93.709511</td>\n",
              "      <td>237.900055</td>\n",
              "      <td>392.807831</td>\n",
              "    </tr>\n",
              "    <tr>\n",
              "      <th>4</th>\n",
              "      <td>1000005</td>\n",
              "      <td>0.0</td>\n",
              "      <td>44.409187</td>\n",
              "      <td>-0.228907</td>\n",
              "      <td>-1.837974</td>\n",
              "      <td>49.886654</td>\n",
              "      <td>0.156533</td>\n",
              "      <td>32.852112</td>\n",
              "      <td>2.561646</td>\n",
              "      <td>2.641460</td>\n",
              "      <td>...</td>\n",
              "      <td>0.293522</td>\n",
              "      <td>1.391425</td>\n",
              "      <td>0.000000</td>\n",
              "      <td>122.030174</td>\n",
              "      <td>288.594086</td>\n",
              "      <td>84.386459</td>\n",
              "      <td>150.299744</td>\n",
              "      <td>69.818291</td>\n",
              "      <td>435.990356</td>\n",
              "      <td>533.977905</td>\n",
              "    </tr>\n",
              "  </tbody>\n",
              "</table>\n",
              "<p>5 rows × 30 columns</p>\n",
              "</div>"
            ]
          },
          "metadata": {
            "tags": []
          },
          "execution_count": 59
        }
      ]
    },
    {
      "cell_type": "markdown",
      "metadata": {
        "id": "7Kgm3gQQIvUV",
        "colab_type": "text"
      },
      "source": [
        " ### Define training features\n",
        "\n",
        "Let Us Exclude parameters  `event_id`, `target` from the features set"
      ]
    },
    {
      "cell_type": "code",
      "metadata": {
        "id": "BXyLFz7pIvUW",
        "colab_type": "code",
        "colab": {
          "base_uri": "https://localhost:8080/",
          "height": 526
        },
        "outputId": "06d4c99b-5126-417f-e07b-3620e505e7cc"
      },
      "source": [
        "features = list(set(data.columns) - {'event_id', 'target'})\n",
        "# now lets see the new features list\n",
        "features"
      ],
      "execution_count": 60,
      "outputs": [
        {
          "output_type": "execute_result",
          "data": {
            "text/plain": [
              "['jet3_pt',\n",
              " 'jet3_eta',\n",
              " 'm_jjj',\n",
              " 'mem_phi',\n",
              " 'jet1_pt',\n",
              " 'jet4_phi',\n",
              " 'jet1_phi',\n",
              " 'jet2_eta',\n",
              " 'jet3_btag',\n",
              " 'm_jlv',\n",
              " 'm_wbb',\n",
              " 'jet4_pt',\n",
              " 'jet4_btag',\n",
              " 'jet2_pt',\n",
              " 'jet1_btag',\n",
              " 'm_jj',\n",
              " 'm_wwbb',\n",
              " 'jet2_phi',\n",
              " 'lepton_phi',\n",
              " 'm_bb',\n",
              " 'm_lv',\n",
              " 'jet4_eta',\n",
              " 'jet2_btag',\n",
              " 'lepton_pt',\n",
              " 'mem_pt',\n",
              " 'lepton_eta',\n",
              " 'jet3_phi',\n",
              " 'jet1_eta']"
            ]
          },
          "metadata": {
            "tags": []
          },
          "execution_count": 60
        }
      ]
    },
    {
      "cell_type": "markdown",
      "metadata": {
        "id": "g1fVcwkiIvUa",
        "colab_type": "text"
      },
      "source": [
        "### Prepare our high-level features for training"
      ]
    },
    {
      "cell_type": "code",
      "metadata": {
        "id": "4DpaVbyoIvUc",
        "colab_type": "code",
        "colab": {}
      },
      "source": [
        "high_level_features = ['m_jj', 'm_jjj', 'm_jlv', 'm_wwbb', 'm_bb', 'm_wbb', 'm_lv']"
      ],
      "execution_count": 36,
      "outputs": []
    },
    {
      "cell_type": "markdown",
      "metadata": {
        "id": "oBESUqk9IvUg",
        "colab_type": "text"
      },
      "source": [
        "\n",
        "### Lets plot histograms for each of our high-level feature"
      ]
    },
    {
      "cell_type": "code",
      "metadata": {
        "id": "-eXZSJgFIvUh",
        "colab_type": "code",
        "colab": {
          "base_uri": "https://localhost:8080/",
          "height": 724
        },
        "outputId": "9b0e2f84-ca72-4cac-da8b-051c64fd34ee"
      },
      "source": [
        "hist_params = {'normed': True, 'bins': 60, 'alpha': 0.4}\n",
        "# create the figure\n",
        "plt.figure(figsize=(16, 25))\n",
        "for n, feature in enumerate(high_level_features):\n",
        "    # add sub plot on our figure\n",
        "    plt.subplot(len(features) // 5 + 1, 3, n+1)\n",
        "    # define range for histograms by cutting 1% of data from both ends\n",
        "    min_value, max_value = numpy.percentile(data[feature], [1, 99])\n",
        "    plt.hist(data.ix[data.target.values == 0, feature].values, range=(min_value, max_value), \n",
        "             label='class 0', **hist_params)\n",
        "    plt.hist(data.ix[data.target.values == 1, feature].values, range=(min_value, max_value), \n",
        "             label='class 1', **hist_params)\n",
        "    plt.legend(loc='best')\n",
        "    plt.title(feature)"
      ],
      "execution_count": 39,
      "outputs": [
        {
          "output_type": "display_data",
          "data": {
            "image/png": "[encoded data removed]",
            "text/plain": [
              "<Figure size 1152x1800 with 7 Axes>"
            ]
          },
          "metadata": {
            "tags": [],
            "needs_background": "light"
          }
        }
      ]
    },
    {
      "cell_type": "markdown",
      "metadata": {
        "id": "jJi2cwAdIvUm",
        "colab_type": "text"
      },
      "source": [
        "### Divide training data into 2 parts \n",
        "`train_test_split` function is used to divide into 2 parts to preserve our model from overfitting. "
      ]
    },
    {
      "cell_type": "code",
      "metadata": {
        "id": "-uDcMU84IvUn",
        "colab_type": "code",
        "colab": {}
      },
      "source": [
        "training_data, validation_data = train_test_split(data, random_state=11, train_size=0.66)"
      ],
      "execution_count": 40,
      "outputs": []
    },
    {
      "cell_type": "markdown",
      "metadata": {
        "id": "_iJmjF4FIvUs",
        "colab_type": "text"
      },
      "source": [
        "### Simple knn from `sklearn` training"
      ]
    },
    {
      "cell_type": "code",
      "metadata": {
        "id": "isg4cHh6IvUt",
        "colab_type": "code",
        "colab": {
          "base_uri": "https://localhost:8080/",
          "height": 72
        },
        "outputId": "43998439-7490-43b3-ac09-e5203599f4be"
      },
      "source": [
        "from sklearn.neighbors import KNeighborsClassifier\n",
        "knn = KNeighborsClassifier(n_neighbors=6)\n",
        "knn.fit(training_data[high_level_features], training_data.target)"
      ],
      "execution_count": 41,
      "outputs": [
        {
          "output_type": "execute_result",
          "data": {
            "text/plain": [
              "KNeighborsClassifier(algorithm='auto', leaf_size=30, metric='minkowski',\n",
              "           metric_params=None, n_jobs=None, n_neighbors=6, p=2,\n",
              "           weights='uniform')"
            ]
          },
          "metadata": {
            "tags": []
          },
          "execution_count": 41
        }
      ]
    },
    {
      "cell_type": "code",
      "metadata": {
        "id": "wqhCseoWIvUy",
        "colab_type": "code",
        "colab": {}
      },
      "source": [
        "# predict validation sample (probability for each event)\n",
        "proba = knn.predict_proba(validation_data[high_level_features])"
      ],
      "execution_count": 42,
      "outputs": []
    },
    {
      "cell_type": "code",
      "metadata": {
        "id": "DtoAoW-SIvU2",
        "colab_type": "code",
        "colab": {
          "base_uri": "https://localhost:8080/",
          "height": 144
        },
        "outputId": "9f3d101f-1c97-4a03-e278-054a021ee985"
      },
      "source": [
        "proba"
      ],
      "execution_count": 43,
      "outputs": [
        {
          "output_type": "execute_result",
          "data": {
            "text/plain": [
              "array([[0.16666667, 0.83333333],\n",
              "       [0.16666667, 0.83333333],\n",
              "       [0.16666667, 0.83333333],\n",
              "       ...,\n",
              "       [0.5       , 0.5       ],\n",
              "       [0.66666667, 0.33333333],\n",
              "       [0.66666667, 0.33333333]])"
            ]
          },
          "metadata": {
            "tags": []
          },
          "execution_count": 43
        }
      ]
    },
    {
      "cell_type": "markdown",
      "metadata": {
        "id": "-ntn2B-kIvU7",
        "colab_type": "text"
      },
      "source": [
        "### Compute quality (ROC AUC) on the validation set"
      ]
    },
    {
      "cell_type": "code",
      "metadata": {
        "id": "ovrKxmyKIvU7",
        "colab_type": "code",
        "colab": {
          "base_uri": "https://localhost:8080/",
          "height": 35
        },
        "outputId": "fc03f5f9-f787-4a9a-ac97-683fdbbd0d29"
      },
      "source": [
        "# take probability to be 1 class to compute ROC AUC\n",
        "roc_auc_score(validation_data.target, proba[:, 1])"
      ],
      "execution_count": 44,
      "outputs": [
        {
          "output_type": "execute_result",
          "data": {
            "text/plain": [
              "0.7212972875108397"
            ]
          },
          "metadata": {
            "tags": []
          },
          "execution_count": 44
        }
      ]
    },
    {
      "cell_type": "markdown",
      "metadata": {
        "id": "kJIwZ6LrIvU_",
        "colab_type": "text"
      },
      "source": [
        "## Prepare submission to kaggle\n",
        "\n",
        "\n",
        "\n",
        "\n"
      ]
    },
    {
      "cell_type": "code",
      "metadata": {
        "id": "UK1SoK_6IvU_",
        "colab_type": "code",
        "colab": {}
      },
      "source": [
        "# predict test sample\n",
        "kaggle_proba = knn.predict_proba(test[high_level_features])[:, 1]\n",
        "kaggle_ids = test.event_id"
      ],
      "execution_count": 45,
      "outputs": []
    },
    {
      "cell_type": "code",
      "metadata": {
        "id": "dv65ivHFIvVD",
        "colab_type": "code",
        "colab": {
          "base_uri": "https://localhost:8080/",
          "height": 17
        },
        "outputId": "7db166b0-f03f-4ebd-b1d5-ffe59dd3123d"
      },
      "source": [
        "from IPython.display import FileLink\n",
        "def create_solution(ids, proba, filename='submission.csv'):\n",
        "    \"\"\"saves predictions to file and provides a link for downloading \"\"\"\n",
        "    pandas.DataFrame({'event_id': ids, 'prediction': proba}).to_csv('{}'.format(filename), index=False)\n",
        "    return FileLink('{}'.format(filename))\n",
        "    \n",
        "create_solution(kaggle_ids, kaggle_proba)\n",
        "\n",
        "## running this part will trigger downloading the submision file\n",
        "from google.colab import files\n",
        "files.download(\"submission.csv\")"
      ],
      "execution_count": 57,
      "outputs": [
        {
          "output_type": "display_data",
          "data": {
            "application/javascript": [
              "\n",
              "    async function download(id, filename, size) {\n",
              "      if (!google.colab.kernel.accessAllowed) {\n",
              "        return;\n",
              "      }\n",
              "      const div = document.createElement('div');\n",
              "      const label = document.createElement('label');\n",
              "      label.textContent = `Downloading \"${filename}\": `;\n",
              "      div.appendChild(label);\n",
              "      const progress = document.createElement('progress');\n",
              "      progress.max = size;\n",
              "      div.appendChild(progress);\n",
              "      document.body.appendChild(div);\n",
              "\n",
              "      const buffers = [];\n",
              "      let downloaded = 0;\n",
              "\n",
              "      const channel = await google.colab.kernel.comms.open(id);\n",
              "      // Send a message to notify the kernel that we're ready.\n",
              "      channel.send({})\n",
              "\n",
              "      for await (const message of channel.messages) {\n",
              "        // Send a message to notify the kernel that we're ready.\n",
              "        channel.send({})\n",
              "        if (message.buffers) {\n",
              "          for (const buffer of message.buffers) {\n",
              "            buffers.push(buffer);\n",
              "            downloaded += buffer.byteLength;\n",
              "            progress.value = downloaded;\n",
              "          }\n",
              "        }\n",
              "      }\n",
              "      const blob = new Blob(buffers, {type: 'application/binary'});\n",
              "      const a = document.createElement('a');\n",
              "      a.href = window.URL.createObjectURL(blob);\n",
              "      a.download = filename;\n",
              "      div.appendChild(a);\n",
              "      a.click();\n",
              "      div.remove();\n",
              "    }\n",
              "  "
            ],
            "text/plain": [
              "<IPython.core.display.Javascript object>"
            ]
          },
          "metadata": {
            "tags": []
          }
        },
        {
          "output_type": "display_data",
          "data": {
            "application/javascript": [
              "download(\"download_1b6c4e1e-5d2f-4b2c-91a7-1e3ac929fca2\", \"submission.csv\", 214622)"
            ],
            "text/plain": [
              "<IPython.core.display.Javascript object>"
            ]
          },
          "metadata": {
            "tags": []
          }
        }
      ]
    },
    {
      "cell_type": "code",
      "metadata": {
        "id": "fBzCDFvkMv_f",
        "colab_type": "code",
        "colab": {}
      },
      "source": [
        ""
      ],
      "execution_count": null,
      "outputs": []
    }
  ]
}
