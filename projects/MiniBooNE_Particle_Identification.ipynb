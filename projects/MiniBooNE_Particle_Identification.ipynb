{
  "nbformat": 4,
  "nbformat_minor": 0,
  "metadata": {
    "colab": {
      "name": "MiniBooNE Particle Identification.ipynb",
      "provenance": [],
      "authorship_tag": "ABX9TyOANgC1ERelJr0Sn7xFCKFe",
      "include_colab_link": true
    },
    "kernelspec": {
      "name": "python3",
      "display_name": "Python 3"
    }
  },
  "cells": [
    {
      "cell_type": "markdown",
      "metadata": {
        "id": "view-in-github",
        "colab_type": "text"
      },
      "source": [
        "<a href=\"https://colab.research.google.com/github/MohamedElashri/HEP-ML/blob/master/MiniBooNE_Particle_Identification.ipynb\" target=\"_parent\"><img src=\"https://colab.research.google.com/assets/colab-badge.svg\" alt=\"Open In Colab\"/></a>"
      ]
    },
    {
      "cell_type": "markdown",
      "metadata": {
        "id": "Mup9Fs5coKBi",
        "colab_type": "text"
      },
      "source": [
        "# MiniBooNE Particle Identification Dataset"
      ]
    },
    {
      "cell_type": "markdown",
      "metadata": {
        "id": "dW56gEQLoQwv",
        "colab_type": "text"
      },
      "source": [
        "\n",
        "  * The dataset has been taken from [UCI machine learning repository](https://archive.ics.uci.edu/ml/datasets/MiniBooNE+particle+identification)\n",
        "  * It has been taken from the MiniBooNE experiment conducted in the fermilab.\n",
        "  * A stream of muon neutrinos are fired and the detector measures the precense of electron neutrinos(signal) among the muon neutrinos(noise).\n",
        "  * There are 50 features in the dataset related to every detection made , however no information is given about the features.\n",
        "  * There are no missing values.\n",
        "  * The first line in the file MiniBooNE_PID.txt contains 2 space seperated values ,   the signal events come first, followed by the background events\n",
        "  * This is a binary classification problem where we want to tell wether a given signal is a electron neutrino or not."
      ]
    },
    {
      "cell_type": "markdown",
      "metadata": {
        "id": "9lwEVzelortp",
        "colab_type": "text"
      },
      "source": [
        "### Downloading data"
      ]
    },
    {
      "cell_type": "code",
      "metadata": {
        "id": "4T0g4rpzoorU",
        "colab_type": "code",
        "colab": {
          "base_uri": "https://localhost:8080/",
          "height": 35
        },
        "outputId": "0ff0d922-3b9b-4ee7-a393-06a2cc07e6a0"
      },
      "source": [
        "! wget -O data.txt -nc --no-check-certificate  https://archive.ics.uci.edu/ml/machine-learning-databases/00199/MiniBooNE_PID.txt"
      ],
      "execution_count": 1,
      "outputs": [
        {
          "output_type": "stream",
          "text": [
            "File ‘data.txt’ already there; not retrieving.\n"
          ],
          "name": "stdout"
        }
      ]
    },
    {
      "cell_type": "markdown",
      "metadata": {
        "id": "dCIezMJupH-f",
        "colab_type": "text"
      },
      "source": [
        "### Data Processing\n"
      ]
    },
    {
      "cell_type": "markdown",
      "metadata": {
        "id": "rTfn7vyspNjI",
        "colab_type": "text"
      },
      "source": [
        "\n",
        "  * The data is stored in data.txt which was downloaded from the above link.\n",
        "  * We use the pandas library to read the data and skip the first row as it contains the number of positive and negative labels\n",
        "  * Then we create a numpy array of 1's(electron neutrino) and 0's(muon neutrino) which acts as our labels for the classification problem.\n",
        "  * We then convert the input dataframe into a numpy array for the analysis.\n",
        "  * After having a look at the data we see that there are many features having large values. This makes the Machine Learning algorithms difficult to converge to a result. Therefore, the solution is to scale down the data\n",
        "  * Here, we just want the range to change, not the mean, or the variance so that the data still caries the information it did before scaling. Hence a good scaler to use is the minmax scaler.\n",
        "  * We then use the train test split to split the data into training and test data sets with a default of 75% training data and 25% test data.\n"
      ]
    },
    {
      "cell_type": "code",
      "metadata": {
        "id": "-g1YwVWxpM_V",
        "colab_type": "code",
        "colab": {}
      },
      "source": [
        "import pandas as pd\n",
        "import numpy as np\n",
        "from sklearn.model_selection import train_test_split\n",
        "from sklearn.preprocessing import MinMaxScaler\n",
        "from sklearn.model_selection import GridSearchCV"
      ],
      "execution_count": 2,
      "outputs": []
    },
    {
      "cell_type": "code",
      "metadata": {
        "id": "ZRyQ65v_pom9",
        "colab_type": "code",
        "colab": {}
      },
      "source": [
        "# define data and read it into pandas dataframe\n",
        "\n",
        "df=pd.read_csv('data.txt',sep=' ',header=None,skiprows=1,skipinitialspace=True)"
      ],
      "execution_count": 3,
      "outputs": []
    },
    {
      "cell_type": "code",
      "metadata": {
        "id": "vjsFDuUS1jz6",
        "colab_type": "code",
        "colab": {
          "base_uri": "https://localhost:8080/",
          "height": 226
        },
        "outputId": "2b39a383-2200-4258-cf2f-50a295b909a2"
      },
      "source": [
        "# explore data features \n",
        "df.head()"
      ],
      "execution_count": 5,
      "outputs": [
        {
          "output_type": "execute_result",
          "data": {
            "text/html": [
              "<div>\n",
              "<style scoped>\n",
              "    .dataframe tbody tr th:only-of-type {\n",
              "        vertical-align: middle;\n",
              "    }\n",
              "\n",
              "    .dataframe tbody tr th {\n",
              "        vertical-align: top;\n",
              "    }\n",
              "\n",
              "    .dataframe thead th {\n",
              "        text-align: right;\n",
              "    }\n",
              "</style>\n",
              "<table border=\"1\" class=\"dataframe\">\n",
              "  <thead>\n",
              "    <tr style=\"text-align: right;\">\n",
              "      <th></th>\n",
              "      <th>0</th>\n",
              "      <th>1</th>\n",
              "      <th>2</th>\n",
              "      <th>3</th>\n",
              "      <th>4</th>\n",
              "      <th>5</th>\n",
              "      <th>6</th>\n",
              "      <th>7</th>\n",
              "      <th>8</th>\n",
              "      <th>9</th>\n",
              "      <th>10</th>\n",
              "      <th>11</th>\n",
              "      <th>12</th>\n",
              "      <th>13</th>\n",
              "      <th>14</th>\n",
              "      <th>15</th>\n",
              "      <th>16</th>\n",
              "      <th>17</th>\n",
              "      <th>18</th>\n",
              "      <th>19</th>\n",
              "      <th>20</th>\n",
              "      <th>21</th>\n",
              "      <th>22</th>\n",
              "      <th>23</th>\n",
              "      <th>24</th>\n",
              "      <th>25</th>\n",
              "      <th>26</th>\n",
              "      <th>27</th>\n",
              "      <th>28</th>\n",
              "      <th>29</th>\n",
              "      <th>30</th>\n",
              "      <th>31</th>\n",
              "      <th>32</th>\n",
              "      <th>33</th>\n",
              "      <th>34</th>\n",
              "      <th>35</th>\n",
              "      <th>36</th>\n",
              "      <th>37</th>\n",
              "      <th>38</th>\n",
              "      <th>39</th>\n",
              "      <th>40</th>\n",
              "      <th>41</th>\n",
              "      <th>42</th>\n",
              "      <th>43</th>\n",
              "      <th>44</th>\n",
              "      <th>45</th>\n",
              "      <th>46</th>\n",
              "      <th>47</th>\n",
              "      <th>48</th>\n",
              "      <th>49</th>\n",
              "    </tr>\n",
              "  </thead>\n",
              "  <tbody>\n",
              "    <tr>\n",
              "      <th>0</th>\n",
              "      <td>2.59413</td>\n",
              "      <td>0.468803</td>\n",
              "      <td>20.6916</td>\n",
              "      <td>0.322648</td>\n",
              "      <td>0.009682</td>\n",
              "      <td>0.374393</td>\n",
              "      <td>0.803479</td>\n",
              "      <td>0.896592</td>\n",
              "      <td>3.59665</td>\n",
              "      <td>0.249282</td>\n",
              "      <td>4.18624</td>\n",
              "      <td>135.8850</td>\n",
              "      <td>0.928671</td>\n",
              "      <td>0.140918</td>\n",
              "      <td>2.58663</td>\n",
              "      <td>1689.070</td>\n",
              "      <td>1.197950</td>\n",
              "      <td>19.3561</td>\n",
              "      <td>0.398340</td>\n",
              "      <td>0.658684</td>\n",
              "      <td>1.561270</td>\n",
              "      <td>0.320885</td>\n",
              "      <td>108.8560</td>\n",
              "      <td>5.16994</td>\n",
              "      <td>0.491493</td>\n",
              "      <td>0.868283</td>\n",
              "      <td>29.6141</td>\n",
              "      <td>1.22299</td>\n",
              "      <td>0.190005</td>\n",
              "      <td>-0.654163</td>\n",
              "      <td>4.97666</td>\n",
              "      <td>0.908007</td>\n",
              "      <td>0.385076</td>\n",
              "      <td>377.412</td>\n",
              "      <td>0.136108</td>\n",
              "      <td>0.310650</td>\n",
              "      <td>2.952640</td>\n",
              "      <td>-4.55567</td>\n",
              "      <td>0.934167</td>\n",
              "      <td>0.049752</td>\n",
              "      <td>101.174</td>\n",
              "      <td>-31.3730</td>\n",
              "      <td>0.442259</td>\n",
              "      <td>5.86453</td>\n",
              "      <td>0.000000</td>\n",
              "      <td>0.090519</td>\n",
              "      <td>0.176909</td>\n",
              "      <td>0.457585</td>\n",
              "      <td>0.071769</td>\n",
              "      <td>0.245996</td>\n",
              "    </tr>\n",
              "    <tr>\n",
              "      <th>1</th>\n",
              "      <td>3.86388</td>\n",
              "      <td>0.645781</td>\n",
              "      <td>18.1375</td>\n",
              "      <td>0.233529</td>\n",
              "      <td>0.030733</td>\n",
              "      <td>0.361239</td>\n",
              "      <td>1.069740</td>\n",
              "      <td>0.878714</td>\n",
              "      <td>3.59243</td>\n",
              "      <td>0.200793</td>\n",
              "      <td>4.65578</td>\n",
              "      <td>331.7180</td>\n",
              "      <td>0.882784</td>\n",
              "      <td>0.368855</td>\n",
              "      <td>2.24638</td>\n",
              "      <td>1388.260</td>\n",
              "      <td>0.839230</td>\n",
              "      <td>6.6951</td>\n",
              "      <td>0.277778</td>\n",
              "      <td>0.944626</td>\n",
              "      <td>1.664640</td>\n",
              "      <td>0.256501</td>\n",
              "      <td>102.4930</td>\n",
              "      <td>5.33218</td>\n",
              "      <td>0.474294</td>\n",
              "      <td>-0.336652</td>\n",
              "      <td>31.5767</td>\n",
              "      <td>1.31717</td>\n",
              "      <td>0.141945</td>\n",
              "      <td>0.093886</td>\n",
              "      <td>5.05478</td>\n",
              "      <td>1.394390</td>\n",
              "      <td>0.325034</td>\n",
              "      <td>215.837</td>\n",
              "      <td>0.082048</td>\n",
              "      <td>0.297530</td>\n",
              "      <td>0.777241</td>\n",
              "      <td>-4.76871</td>\n",
              "      <td>1.438210</td>\n",
              "      <td>0.068714</td>\n",
              "      <td>186.516</td>\n",
              "      <td>45.9597</td>\n",
              "      <td>-0.478507</td>\n",
              "      <td>6.11126</td>\n",
              "      <td>0.001182</td>\n",
              "      <td>0.091800</td>\n",
              "      <td>-0.465572</td>\n",
              "      <td>0.935523</td>\n",
              "      <td>0.333613</td>\n",
              "      <td>0.230621</td>\n",
              "    </tr>\n",
              "    <tr>\n",
              "      <th>2</th>\n",
              "      <td>3.38584</td>\n",
              "      <td>1.197140</td>\n",
              "      <td>36.0807</td>\n",
              "      <td>0.200866</td>\n",
              "      <td>0.017341</td>\n",
              "      <td>0.260841</td>\n",
              "      <td>1.108950</td>\n",
              "      <td>0.884405</td>\n",
              "      <td>3.43159</td>\n",
              "      <td>0.177167</td>\n",
              "      <td>4.50807</td>\n",
              "      <td>159.3960</td>\n",
              "      <td>0.412250</td>\n",
              "      <td>0.434002</td>\n",
              "      <td>2.38485</td>\n",
              "      <td>992.098</td>\n",
              "      <td>0.514175</td>\n",
              "      <td>16.0030</td>\n",
              "      <td>0.256262</td>\n",
              "      <td>0.318984</td>\n",
              "      <td>-0.727361</td>\n",
              "      <td>0.312139</td>\n",
              "      <td>69.8362</td>\n",
              "      <td>3.44976</td>\n",
              "      <td>0.497076</td>\n",
              "      <td>-0.314786</td>\n",
              "      <td>59.2516</td>\n",
              "      <td>1.18765</td>\n",
              "      <td>0.192565</td>\n",
              "      <td>-0.511144</td>\n",
              "      <td>5.27196</td>\n",
              "      <td>1.002860</td>\n",
              "      <td>1.690870</td>\n",
              "      <td>417.430</td>\n",
              "      <td>0.068628</td>\n",
              "      <td>0.220612</td>\n",
              "      <td>1.390970</td>\n",
              "      <td>-2.02213</td>\n",
              "      <td>1.843790</td>\n",
              "      <td>0.085132</td>\n",
              "      <td>129.931</td>\n",
              "      <td>-11.5608</td>\n",
              "      <td>-0.297008</td>\n",
              "      <td>8.27204</td>\n",
              "      <td>0.003854</td>\n",
              "      <td>0.141721</td>\n",
              "      <td>-0.210559</td>\n",
              "      <td>1.013450</td>\n",
              "      <td>0.255512</td>\n",
              "      <td>0.180901</td>\n",
              "    </tr>\n",
              "    <tr>\n",
              "      <th>3</th>\n",
              "      <td>4.28524</td>\n",
              "      <td>0.510155</td>\n",
              "      <td>674.2010</td>\n",
              "      <td>0.281923</td>\n",
              "      <td>0.009174</td>\n",
              "      <td>0.000000</td>\n",
              "      <td>0.998822</td>\n",
              "      <td>0.823390</td>\n",
              "      <td>3.16382</td>\n",
              "      <td>0.171678</td>\n",
              "      <td>4.08041</td>\n",
              "      <td>-1.8656</td>\n",
              "      <td>0.833067</td>\n",
              "      <td>0.181294</td>\n",
              "      <td>2.49837</td>\n",
              "      <td>1289.160</td>\n",
              "      <td>0.630307</td>\n",
              "      <td>12.9374</td>\n",
              "      <td>0.266055</td>\n",
              "      <td>1.313580</td>\n",
              "      <td>0.698101</td>\n",
              "      <td>0.306193</td>\n",
              "      <td>148.0340</td>\n",
              "      <td>4.12461</td>\n",
              "      <td>0.494778</td>\n",
              "      <td>0.331151</td>\n",
              "      <td>17.8265</td>\n",
              "      <td>1.70034</td>\n",
              "      <td>0.147487</td>\n",
              "      <td>0.313964</td>\n",
              "      <td>7.91668</td>\n",
              "      <td>1.584410</td>\n",
              "      <td>0.557134</td>\n",
              "      <td>352.699</td>\n",
              "      <td>0.079246</td>\n",
              "      <td>0.338915</td>\n",
              "      <td>-0.331218</td>\n",
              "      <td>-3.52184</td>\n",
              "      <td>1.244390</td>\n",
              "      <td>0.105550</td>\n",
              "      <td>163.978</td>\n",
              "      <td>-18.4586</td>\n",
              "      <td>0.453886</td>\n",
              "      <td>2.48112</td>\n",
              "      <td>0.000000</td>\n",
              "      <td>0.180938</td>\n",
              "      <td>0.407968</td>\n",
              "      <td>4.341270</td>\n",
              "      <td>0.473081</td>\n",
              "      <td>0.258990</td>\n",
              "    </tr>\n",
              "    <tr>\n",
              "      <th>4</th>\n",
              "      <td>5.93662</td>\n",
              "      <td>0.832993</td>\n",
              "      <td>59.8796</td>\n",
              "      <td>0.232853</td>\n",
              "      <td>0.025066</td>\n",
              "      <td>0.233556</td>\n",
              "      <td>1.370040</td>\n",
              "      <td>0.787424</td>\n",
              "      <td>3.66546</td>\n",
              "      <td>0.174862</td>\n",
              "      <td>4.59180</td>\n",
              "      <td>183.6680</td>\n",
              "      <td>0.398421</td>\n",
              "      <td>0.353034</td>\n",
              "      <td>2.04136</td>\n",
              "      <td>949.231</td>\n",
              "      <td>0.389585</td>\n",
              "      <td>13.9175</td>\n",
              "      <td>0.281003</td>\n",
              "      <td>0.282402</td>\n",
              "      <td>-0.039672</td>\n",
              "      <td>0.233509</td>\n",
              "      <td>106.8670</td>\n",
              "      <td>2.94245</td>\n",
              "      <td>0.464260</td>\n",
              "      <td>-0.033102</td>\n",
              "      <td>139.4700</td>\n",
              "      <td>1.68793</td>\n",
              "      <td>0.117804</td>\n",
              "      <td>0.021927</td>\n",
              "      <td>7.80990</td>\n",
              "      <td>1.317420</td>\n",
              "      <td>0.677348</td>\n",
              "      <td>317.556</td>\n",
              "      <td>0.041526</td>\n",
              "      <td>0.249403</td>\n",
              "      <td>-0.360560</td>\n",
              "      <td>-3.18766</td>\n",
              "      <td>1.808670</td>\n",
              "      <td>0.105852</td>\n",
              "      <td>229.555</td>\n",
              "      <td>42.9600</td>\n",
              "      <td>-0.975752</td>\n",
              "      <td>2.66109</td>\n",
              "      <td>0.000000</td>\n",
              "      <td>0.170836</td>\n",
              "      <td>-0.814403</td>\n",
              "      <td>4.679490</td>\n",
              "      <td>1.924990</td>\n",
              "      <td>0.253893</td>\n",
              "    </tr>\n",
              "  </tbody>\n",
              "</table>\n",
              "</div>"
            ],
            "text/plain": [
              "        0         1         2   ...        47        48        49\n",
              "0  2.59413  0.468803   20.6916  ...  0.457585  0.071769  0.245996\n",
              "1  3.86388  0.645781   18.1375  ...  0.935523  0.333613  0.230621\n",
              "2  3.38584  1.197140   36.0807  ...  1.013450  0.255512  0.180901\n",
              "3  4.28524  0.510155  674.2010  ...  4.341270  0.473081  0.258990\n",
              "4  5.93662  0.832993   59.8796  ...  4.679490  1.924990  0.253893\n",
              "\n",
              "[5 rows x 50 columns]"
            ]
          },
          "metadata": {
            "tags": []
          },
          "execution_count": 5
        }
      ]
    },
    {
      "cell_type": "code",
      "metadata": {
        "id": "TE9zmxQxpyFF",
        "colab_type": "code",
        "colab": {}
      },
      "source": [
        "# scale the data \n",
        "\n",
        "file=open('data.txt')\n",
        "y=file.readline()\n",
        "file.close()\n",
        "numlabels=[int(s) for s in y.split()]\n",
        "ylabels=numlabels[0]*[1] + numlabels[1]*[0]\n",
        "Y=np.array(ylabels)\n",
        "X=df.to_numpy()\n",
        "scaler=MinMaxScaler()\n",
        "scaler.fit(X)\n",
        "X_scaled=scaler.transform(X)"
      ],
      "execution_count": 6,
      "outputs": []
    },
    {
      "cell_type": "code",
      "metadata": {
        "id": "eSwPSTF5p9x5",
        "colab_type": "code",
        "colab": {}
      },
      "source": [
        "# split the dataset into traning and test sets \n",
        "X_train,X_test,y_train,y_test=train_test_split(X_scaled,Y,random_state=0)"
      ],
      "execution_count": 7,
      "outputs": []
    },
    {
      "cell_type": "markdown",
      "metadata": {
        "id": "GYYll2mnqD9Q",
        "colab_type": "text"
      },
      "source": [
        "### Evaulation "
      ]
    },
    {
      "cell_type": "markdown",
      "metadata": {
        "id": "BbkqE2sZqI-5",
        "colab_type": "text"
      },
      "source": [
        "We define a function for model evaluation based on the confusion matrix. The confusion matrix is used to quantify how many of the predicted values were correct and incorrect. \n",
        "\n",
        "#### Definitions\n",
        "* **Accuracy**: The number of true predictions(true 0's and true 1's) divided by the total number of predictions made\n",
        "* **Precicion**: The number of true 1's divided by the total number of 1's predicted.(Basically telling us that how well have we predicted the 1's) precision=1 if no 1's are predicted as 0 (precision=TP/(TP+FP))\n",
        "* **Recall**: The number of true 1's divided by the actual 1's.(the fraction of correctly classified 1's) . recall=1 if no 1s are predicted as 0.(recall=TP/(TP+FN))\n",
        "* **ROC**: a graph where false positive rate is plotted on the X-axis and true positive rate is plotted in the Y axis. The area under the ROC curve is a good measure of how well the algorothm has performed. A score close to 1 is a good auc(area under the curve) score.\n"
      ]
    },
    {
      "cell_type": "code",
      "metadata": {
        "id": "bx9BhkKsqII3",
        "colab_type": "code",
        "colab": {}
      },
      "source": [
        "from sklearn import metrics\n",
        "import matplotlib.pyplot as plt\n",
        "\n",
        "def evaluate(y_test,y_pred,y_pred_proba):\n",
        "    cnf_matrix=metrics.confusion_matrix(y_test,y_pred)\n",
        "    print('The confusion matrix for the given model is: ')\n",
        "    print(cnf_matrix)\n",
        "    print('accuracy : ',metrics.accuracy_score(y_test,y_pred))\n",
        "    print('precision : ',metrics.precision_score(y_test,y_pred))\n",
        "    print('recall : ',metrics.recall_score(y_test,y_pred))\n",
        "    fpr, tpr, _ = metrics.roc_curve(y_test,  y_pred_proba)\n",
        "    auc = metrics.roc_auc_score(y_test, y_pred_proba)\n",
        "    plt.figure()\n",
        "    plt.plot(fpr,tpr,label='Area under the curve= '+str(auc))\n",
        "    plt.legend(loc=4)\n",
        "    plt.title('ROC curve')\n",
        "    plt.xlabel('False positive rate')\n",
        "    plt.ylabel('True Positive rate')"
      ],
      "execution_count": 8,
      "outputs": []
    },
    {
      "cell_type": "markdown",
      "metadata": {
        "id": "A79SVlwVrB_d",
        "colab_type": "text"
      },
      "source": [
        "### Models\n"
      ]
    },
    {
      "cell_type": "markdown",
      "metadata": {
        "id": "Tv38g9YDrElj",
        "colab_type": "text"
      },
      "source": [
        "In this analysis we will try different machine learning algorithm and seek the best model among them. We will use the following models \n",
        "\n",
        "\n",
        "\n",
        "1.   Logistic regression\n",
        "2.   K-nearest Neigbhors\n",
        "3.   Decision trees\n",
        "4.   SVM (Support Vector Machines)\n",
        "5.   Random Forest\n",
        "\n",
        "\n"
      ]
    },
    {
      "cell_type": "markdown",
      "metadata": {
        "id": "LzxgARiqrYFo",
        "colab_type": "text"
      },
      "source": [
        "\n",
        "#### Logistic regression"
      ]
    },
    {
      "cell_type": "markdown",
      "metadata": {
        "id": "Yih805-xrgU-",
        "colab_type": "text"
      },
      "source": [
        "Logistic regression uses the sigmoid function to estimate the probability of an instance being classified as 1. The C value controls large values for weights that may lead to overfitting in the data"
      ]
    },
    {
      "cell_type": "code",
      "metadata": {
        "id": "95I6Ky_LrXcb",
        "colab_type": "code",
        "colab": {
          "base_uri": "https://localhost:8080/",
          "height": 440
        },
        "outputId": "7de6917d-5480-46ae-e4fa-c12b37a48840"
      },
      "source": [
        "from sklearn.linear_model import LogisticRegression\n",
        "\n",
        "# define the model\n",
        "lr=LogisticRegression(random_state=0,max_iter=5000)\n",
        "C_range={'C':[100]}\n",
        "clf=GridSearchCV(lr,C_range).fit(X_train,y_train)\n",
        "# print model scores\n",
        "print('The score for this model is: ',clf.score(X_test,y_test))\n",
        "print('the best value of parameter C is: ',clf.best_params_)\n",
        "y_pred=clf.predict(X_test)\n",
        "y_pred_proba=clf.predict_proba(X_test)[::,1]\n",
        "\n",
        "# evaluate the model\n",
        "evaluate(y_test,y_pred,y_pred_proba)"
      ],
      "execution_count": null,
      "outputs": [
        {
          "output_type": "stream",
          "text": [
            "The score for this model is:  0.8730778693566245\n",
            "the best value of parameter C is:  {'C': 100}\n",
            "The confusion matrix for the given model is: \n",
            "[[22184  1268]\n",
            " [ 2859  6205]]\n",
            "accuracy :  0.8730778693566245\n",
            "precision :  0.8303224943128596\n",
            "recall :  0.684576345984113\n"
          ],
          "name": "stdout"
        },
        {
          "output_type": "display_data",
          "data": {
            "image/png": "[encoded data removed]",
            "text/plain": [
              "<Figure size 432x288 with 1 Axes>"
            ]
          },
          "metadata": {
            "tags": [],
            "needs_background": "light"
          }
        }
      ]
    },
    {
      "cell_type": "markdown",
      "metadata": {
        "id": "JtvpqnuuuWNX",
        "colab_type": "text"
      },
      "source": [
        "#### K-nearest Neigbhors\n"
      ]
    },
    {
      "cell_type": "markdown",
      "metadata": {
        "id": "u-hz_uwFucNe",
        "colab_type": "text"
      },
      "source": [
        "The K-nearest neighbors model does not actually train a model based on the data but rather stores all the training data given to it and then calculates the distance of each point from every other point.When test data is given, it classifies it as a 1 or 0 based on votes based on the chosen k(number of nearest neighbors). It is unsupervised learning algorithm "
      ]
    },
    {
      "cell_type": "code",
      "metadata": {
        "id": "eIbHnLxTubqd",
        "colab_type": "code",
        "colab": {
          "base_uri": "https://localhost:8080/",
          "height": 440
        },
        "outputId": "4e124a63-3a0e-49ea-82af-1ca752813334"
      },
      "source": [
        "from sklearn.neighbors import KNeighborsClassifier\n",
        "\n",
        "# define the model\n",
        "knn=KNeighborsClassifier()\n",
        "parameters_knn={'n_neighbors':[1,5,10,14]}\n",
        "clf=GridSearchCV(knn,parameters_knn).fit(X_train,y_train)\n",
        "\n",
        "# print model scores\n",
        "print('The score for this model is: ',clf.score(X_test,y_test))\n",
        "print('the best value of parameters is: ',clf.best_params_)\n",
        "y_pred=clf.predict(X_test)\n",
        "y_pred_proba=clf.predict_proba(X_test)[::,1]\n",
        "\n",
        "# evaluate the model\n",
        "evaluate(y_test,y_pred,y_pred_proba)"
      ],
      "execution_count": null,
      "outputs": [
        {
          "output_type": "stream",
          "text": [
            "The score for this model is:  0.8901463894697995\n",
            "the best value of parameters is:  {'n_neighbors': 14}\n",
            "The confusion matrix for the given model is: \n",
            "[[21821  1631]\n",
            " [ 1941  7123]]\n",
            "accuracy :  0.8901463894697995\n",
            "precision :  0.8136851724925748\n",
            "recall :  0.785856134157105\n"
          ],
          "name": "stdout"
        },
        {
          "output_type": "display_data",
          "data": {
            "image/png": "[encoded data removed]",
            "text/plain": [
              "<Figure size 432x288 with 1 Axes>"
            ]
          },
          "metadata": {
            "tags": [],
            "needs_background": "light"
          }
        }
      ]
    },
    {
      "cell_type": "markdown",
      "metadata": {
        "id": "EY_MnbhnvzB6",
        "colab_type": "text"
      },
      "source": [
        "#### Decision Trees"
      ]
    },
    {
      "cell_type": "markdown",
      "metadata": {
        "id": "u7Zn8uMTv3YV",
        "colab_type": "text"
      },
      "source": [
        "A Binary Decision Tree is a structure based on a sequential decision process. Starting from the root, a feature is evaluated and one of the two branches is selected. This procedure is repeated until a final leaf is reached, which normally represents the classification target we are looking for. The model can overfit if no limit is specified on the depth the tree can go to."
      ]
    },
    {
      "cell_type": "code",
      "metadata": {
        "id": "4QwgxrddwEJd",
        "colab_type": "code",
        "colab": {
          "base_uri": "https://localhost:8080/",
          "height": 440
        },
        "outputId": "725b0edc-ad82-4c12-9a2b-bbde64d33458"
      },
      "source": [
        "from sklearn import tree\n",
        "\n",
        "# define the model\n",
        "dt=tree.DecisionTreeClassifier()\n",
        "parameters_dt={'max_depth':[5,10,15]}\n",
        "clf=GridSearchCV(dt,parameters_dt).fit(X_train,y_train)\n",
        "\n",
        "# print model scores\n",
        "print('The score for this model is: ',clf.score(X_test,y_test))\n",
        "print('the best value of parameters is: ',clf.best_params_)\n",
        "y_pred=clf.predict(X_test)\n",
        "y_pred_proba=clf.predict_proba(X_test)[::,1]\n",
        "\n",
        "# evaluate the model\n",
        "evaluate(y_test,y_pred,y_pred_proba)"
      ],
      "execution_count": null,
      "outputs": [
        {
          "output_type": "stream",
          "text": [
            "The score for this model is:  0.908721860007381\n",
            "the best value of parameters is:  {'max_depth': 10}\n",
            "The confusion matrix for the given model is: \n",
            "[[21899  1553]\n",
            " [ 1415  7649]]\n",
            "accuracy :  0.908721860007381\n",
            "precision :  0.8312323407954793\n",
            "recall :  0.8438879082082965\n"
          ],
          "name": "stdout"
        },
        {
          "output_type": "display_data",
          "data": {
            "image/png": "[encoded data removed]",
            "text/plain": [
              "<Figure size 432x288 with 1 Axes>"
            ]
          },
          "metadata": {
            "tags": [],
            "needs_background": "light"
          }
        }
      ]
    },
    {
      "cell_type": "markdown",
      "metadata": {
        "id": "1DvuVO8hwnGD",
        "colab_type": "text"
      },
      "source": [
        "#### SVM (Support Vector Machines)"
      ]
    },
    {
      "cell_type": "markdown",
      "metadata": {
        "id": "Jbqldd0VwrGP",
        "colab_type": "text"
      },
      "source": [
        "SVM is binary classification algorithm. Given a set of points of 2 types in N dimensional place, SVM generates a (N — 1) dimensional hyperplane to separate those points into 2 groups. Say you have some points of 2 types in a paper which are linearly separable. SVM will find a straight line which separates those points into 2 types and situated as far as possible from all those points."
      ]
    },
    {
      "cell_type": "code",
      "metadata": {
        "id": "dQUsf__UwrRH",
        "colab_type": "code",
        "colab": {}
      },
      "source": [
        "from sklearn.svm import SVC\n",
        "\n",
        "# define the model\n",
        "rf=SVC(kernel='linear',probability = True, cache_size = 600)\n",
        "parameters_rf={'C':[0.001, 0.1, 10, 100, 1000]}\n",
        "clf=GridSearchCV(rf,parameters_rf,cv= 10,n_jobs=-1).fit(X_train,y_train)\n",
        "\n",
        "# print model scores\n",
        "print('The score for this model is: ',clf.score(X_test,y_test))\n",
        "print('the best value of parameters is: ',clf.best_params_)\n",
        "y_pred=clf.predict(X_test)\n",
        "y_pred_proba=clf.predict_proba(X_test)[::,1]\n",
        "\n",
        "# evaluate the model\n",
        "evaluate(y_test,y_pred,y_pred_proba)\n",
        "\n",
        "# omitted output as it takes too long but given enough time it should be done"
      ],
      "execution_count": null,
      "outputs": []
    },
    {
      "cell_type": "markdown",
      "metadata": {
        "id": "uVbtJMSzyejj",
        "colab_type": "text"
      },
      "source": [
        "#### Random Forest "
      ]
    },
    {
      "cell_type": "markdown",
      "metadata": {
        "id": "ef7dxaI4yoHt",
        "colab_type": "text"
      },
      "source": [
        "random forest is a classification algorithm consisting of many decisions trees. It uses bagging and feature randomness when building each individual tree to try to create an uncorrelated forest of trees whose prediction by committee is more accurate than that of any individual tree"
      ]
    },
    {
      "cell_type": "code",
      "metadata": {
        "id": "ldibEEsMyzVK",
        "colab_type": "code",
        "colab": {
          "base_uri": "https://localhost:8080/",
          "height": 440
        },
        "outputId": "4b4d9625-8a0e-49cd-c8c3-d097979bb17a"
      },
      "source": [
        "from sklearn.ensemble import RandomForestClassifier\n",
        "\n",
        "# define the model\n",
        "rf=RandomForestClassifier(bootstrap=True)\n",
        "parameters_rf={'n_estimators':[10,50,100],'max_depth':[5,10],'max_samples':[30000,40000]}\n",
        "clf=GridSearchCV(rf,parameters_rf).fit(X_train,y_train)\n",
        "\n",
        "# print model scores\n",
        "print('The score for this model is: ',clf.score(X_test,y_test))\n",
        "print('the best value of parameters is: ',clf.best_params_)\n",
        "y_pred=clf.predict(X_test)\n",
        "y_pred_proba=clf.predict_proba(X_test)[::,1]\n",
        "\n",
        "# evaluate the model\n",
        "evaluate(y_test,y_pred,y_pred_proba)"
      ],
      "execution_count": null,
      "outputs": [
        {
          "output_type": "stream",
          "text": [
            "The score for this model is:  0.925544347398204\n",
            "the best value of parameters is:  {'max_depth': 10, 'max_samples': 40000, 'n_estimators': 100}\n",
            "The confusion matrix for the given model is: \n",
            "[[22346  1106]\n",
            " [ 1315  7749]]\n",
            "accuracy :  0.925544347398204\n",
            "precision :  0.8750988142292491\n",
            "recall :  0.8549205648720212\n"
          ],
          "name": "stdout"
        },
        {
          "output_type": "display_data",
          "data": {
            "image/png": "[encoded data removed]",
            "text/plain": [
              "<Figure size 432x288 with 1 Axes>"
            ]
          },
          "metadata": {
            "tags": [],
            "needs_background": "light"
          }
        }
      ]
    },
    {
      "cell_type": "markdown",
      "metadata": {
        "id": "e6ue2drry_m5",
        "colab_type": "text"
      },
      "source": [
        "### Conclusion "
      ]
    },
    {
      "cell_type": "markdown",
      "metadata": {
        "id": "CbQnFJHGzCNN",
        "colab_type": "text"
      },
      "source": [
        "In our Analysis we find \"\" is the best algorithm with the highest ROC value "
      ]
    }
  ]
}